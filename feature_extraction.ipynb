{
 "cells": [
  {
   "cell_type": "markdown",
   "metadata": {},
   "source": [
    "## Extracting MFCC features"
   ]
  },
  {
   "cell_type": "code",
   "execution_count": 1,
   "metadata": {},
   "outputs": [
    {
     "name": "stderr",
     "output_type": "stream",
     "text": [
      "100%|██████████| 18/18 [00:00<?, ?it/s]"
     ]
    },
    {
     "name": "stdout",
     "output_type": "stream",
     "text": [
      "noise_sample_122183.wav\n",
      "noise_sample_127286.wav\n",
      "noise_sample_167426.wav\n",
      "noise_sample_174016.wav\n",
      "noise_sample_177659.wav\n",
      "noise_sample_195167.wav\n",
      "noise_sample_205709.wav\n",
      "noise_sample_218479.wav\n",
      "noise_sample_260803.wav\n",
      "noise_sample_300290.wav\n",
      "noise_sample_306993.wav\n",
      "noise_sample_313854.wav\n",
      "noise_sample_318340.wav\n",
      "noise_sample_324843.wav\n",
      "noise_sample_62094.wav\n",
      "noise_sample_81600.wav\n",
      "noise_sample_81887.wav\n",
      "noise_sample_98207.wav\n"
     ]
    },
    {
     "name": "stderr",
     "output_type": "stream",
     "text": [
      "\n"
     ]
    }
   ],
   "source": [
    "import os\n",
    "import librosa\n",
    "import warnings\n",
    "from tqdm import tqdm\n",
    "\n",
    "warnings.filterwarnings('ignore')\n",
    "\n",
    "audio_path = 'noisy_samples'\n",
    "mfcc_data = {}\n",
    "for filename in tqdm(os.listdir(audio_path)):\n",
    "    if filename.endswith('wav'):\n",
    "        y, sr = librosa.load(audio_path + '/' + filename)\n",
    "        mfcc = librosa.feature.mfcc(y=y, sr=sr)\n",
    "        mfcc_data[filename] = mfcc"
   ]
  }
 ],
 "metadata": {
  "interpreter": {
   "hash": "b3ba2566441a7c06988d0923437866b63cedc61552a5af99d1f4fb67d367b25f"
  },
  "kernelspec": {
   "display_name": "Python 3.8.8 ('base')",
   "language": "python",
   "name": "python3"
  },
  "language_info": {
   "codemirror_mode": {
    "name": "ipython",
    "version": 3
   },
   "file_extension": ".py",
   "mimetype": "text/x-python",
   "name": "python",
   "nbconvert_exporter": "python",
   "pygments_lexer": "ipython3",
   "version": "3.8.8"
  },
  "orig_nbformat": 4
 },
 "nbformat": 4,
 "nbformat_minor": 2
}
