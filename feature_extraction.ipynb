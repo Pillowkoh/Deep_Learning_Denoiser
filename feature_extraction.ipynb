{
 "cells": [
  {
   "cell_type": "markdown",
   "metadata": {},
   "source": [
    "# Feature Extraction\n",
    "## Extracting MFCC features"
   ]
  },
  {
   "cell_type": "code",
   "execution_count": 26,
   "metadata": {},
   "outputs": [],
   "source": [
    "import os\n",
    "import librosa\n",
    "import warnings\n",
    "from tqdm import tqdm\n",
    "import csv\n",
    "import numpy as np\n",
    "\n",
    "warnings.filterwarnings('ignore')"
   ]
  },
  {
   "cell_type": "code",
   "execution_count": 32,
   "metadata": {},
   "outputs": [],
   "source": [
    "def get_mfcc_data(audio_path):\n",
    "    mfcc_data = {}\n",
    "    for filename in tqdm(os.listdir(audio_path)):\n",
    "        if filename.endswith('wav'):\n",
    "            y, sr = librosa.load(audio_path + '/' + filename)\n",
    "            mfcc = librosa.feature.mfcc(y=y, sr=sr)\n",
    "            mfcc_data[filename] = mfcc\n",
    "    \n",
    "    return mfcc_data"
   ]
  },
  {
   "cell_type": "code",
   "execution_count": 40,
   "metadata": {},
   "outputs": [],
   "source": [
    "def make_mfcc_csv(mfcc_data, folder_path):\n",
    "    for key, val in mfcc_data.items():\n",
    "        np.savetxt(folder_path+'/mfcc_'+key[:-4]+'.csv', val, delimiter=',') #-4 to get rid of .wav"
   ]
  },
  {
   "cell_type": "code",
   "execution_count": null,
   "metadata": {},
   "outputs": [],
   "source": [
    "# Assume: Clean and Noisy audio files are in separate folders, in another folder named data\n",
    "\n",
    "clean_mfcc = get_mfcc_data('data/clean_audio')\n",
    "make_mfcc_csv(clean_mfcc, 'data/clean_audio')\n",
    "\n",
    "noisy_mfcc = get_mfcc_data('data/noisy_audio')\n",
    "make_mfcc_csv(noisy_mfcc, 'data/noisy_audio')"
   ]
  },
  {
   "cell_type": "markdown",
   "metadata": {},
   "source": [
    "## Extracting Mel Spectrogram"
   ]
  },
  {
   "cell_type": "code",
   "execution_count": 47,
   "metadata": {},
   "outputs": [],
   "source": [
    "def get_mel_spec_data(audio_path):\n",
    "    mel_spec_data = {}\n",
    "    for filename in tqdm(os.listdir(audio_path)):\n",
    "        if filename.endswith('wav'):\n",
    "            y, sr = librosa.load(audio_path + '/' + filename)\n",
    "            mel_spec = librosa.feature.mfcc(y=y, sr=sr)\n",
    "            mel_spec_data[filename] = mel_spec\n",
    "    \n",
    "    return mel_spec_data"
   ]
  },
  {
   "cell_type": "code",
   "execution_count": 48,
   "metadata": {},
   "outputs": [],
   "source": [
    "def make_mel_spec_csv(mel_spec_data, folder_path):\n",
    "    for key, val in mel_spec_data.items():\n",
    "        np.savetxt(folder_path+'/mel_spec_'+key[:-4]+'.csv', val, delimiter=',') #-4 to get rid of .wav"
   ]
  },
  {
   "cell_type": "code",
   "execution_count": null,
   "metadata": {},
   "outputs": [],
   "source": [
    "clean_mfcc = get_mel_spec_data('data/clean_audio')\n",
    "make_mel_spec_csv(clean_mfcc, 'data/clean_audio')\n",
    "\n",
    "noisy_mfcc = get_mel_spec_data('data/noisy_audio')\n",
    "make_mel_spec_csv(noisy_mfcc, 'data/noisy_audio')"
   ]
  }
 ],
 "metadata": {
  "interpreter": {
   "hash": "b3ba2566441a7c06988d0923437866b63cedc61552a5af99d1f4fb67d367b25f"
  },
  "kernelspec": {
   "display_name": "Python 3.8.8 ('base')",
   "language": "python",
   "name": "python3"
  },
  "language_info": {
   "codemirror_mode": {
    "name": "ipython",
    "version": 3
   },
   "file_extension": ".py",
   "mimetype": "text/x-python",
   "name": "python",
   "nbconvert_exporter": "python",
   "pygments_lexer": "ipython3",
   "version": "3.9.7"
  },
  "orig_nbformat": 4
 },
 "nbformat": 4,
 "nbformat_minor": 2
}
