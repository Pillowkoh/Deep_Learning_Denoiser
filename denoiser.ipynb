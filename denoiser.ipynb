{
 "cells": [
  {
   "cell_type": "code",
   "execution_count": 16,
   "metadata": {},
   "outputs": [],
   "source": [
    "import torch\n",
    "import torchaudio\n",
    "from torch import nn\n",
    "from torch.nn import functional as F\n",
    "import numpy as np\n",
    "import pandas as pd\n",
    "import matplotlib.pyplot as plt\n",
    "import os"
   ]
  },
  {
   "cell_type": "code",
   "execution_count": 11,
   "metadata": {},
   "outputs": [
    {
     "data": {
      "text/plain": [
       "'NVIDIA GeForce RTX 3060'"
      ]
     },
     "execution_count": 11,
     "metadata": {},
     "output_type": "execute_result"
    }
   ],
   "source": [
    "torch.cuda.is_available()\n",
    "torch.cuda.device_count()\n",
    "torch.cuda.current_device()\n",
    "torch.cuda.device(0)\n",
    "torch.cuda.get_device_name(0)"
   ]
  },
  {
   "cell_type": "code",
   "execution_count": null,
   "metadata": {},
   "outputs": [],
   "source": [
    "NOISY_SAMPLES = os.path.join()"
   ]
  },
  {
   "cell_type": "code",
   "execution_count": 12,
   "metadata": {},
   "outputs": [],
   "source": [
    "class Denoiser(torch.nn.Module):\n",
    "  # D: no of encoder layers\n",
    "  # H: no. of output channels in first layer\n",
    "  # K: kernel size\n",
    "  # S: stride\n",
    "  def __init__(\n",
    "  self, \n",
    "  n_layers, \n",
    "  output_channels, \n",
    "  chin=1,\n",
    "  chout=1,\n",
    "  hidden=48,\n",
    "  depth=5,\n",
    "  kernel_size=8,\n",
    "  stride=4,\n",
    "  causal=True,\n",
    "  resample=4,\n",
    "  growth=2,\n",
    "  max_hidden=10_000,\n",
    "  normalize=True,\n",
    "  glu=True,\n",
    "  rescale=0.1,\n",
    "  floor=1e-3,\n",
    "  sample_rate=22_050\n",
    "  ):\n",
    "    super(Denoiser, self).__init__()\n",
    "    self.D = n_layers\n",
    "    self.H = output_channels\n",
    "    self.K = kernel_size\n",
    "    self.S = kernel_size // 2\n",
    "\n",
    "    self.encoder = nn.ModuleList([])\n",
    "    self.decoder = nn.ModuleList([])\n",
    "    activation = nn.GLU(1) if glu else nn.ReLU()\n",
    "    ch_scale = 2 if glu else 1\n",
    "\n",
    "    for index in range(depth):\n",
    "\n",
    "      encode = []\n",
    "      encode += [\n",
    "          nn.Conv1d(chin, hidden, kernel_size, stride),\n",
    "          nn.ReLU(),\n",
    "          nn.Conv1d(hidden, hidden * ch_scale, 1),\n",
    "          activation,\n",
    "      ]\n",
    "      self.encoder.append(nn.Sequential(*encode))\n",
    "\n",
    "      decode = []\n",
    "      decode += [\n",
    "          nn.Conv1d(hidden, ch_scale * hidden, 1),\n",
    "          activation,\n",
    "          nn.ConvTranspose1d(hidden, chout, kernel_size, stride),\n",
    "      ]\n",
    "      if index > 0:\n",
    "          decode.append(nn.ReLU())\n",
    "      self.decoder.insert(0, nn.Sequential(*decode))\n",
    "      chout = hidden\n",
    "      chin = hidden\n",
    "      hidden = min(int(growth * hidden), max_hidden)\n",
    "\n",
    "  def forward(self, input):\n",
    "    length = input.shape[-1]\n",
    "    skip_outputs = []\n",
    "    for encoder in self.encoder:\n",
    "      x = encoder(x)\n",
    "      skip_outputs.append(x)\n",
    "      \n",
    "\n"
   ]
  },
  {
   "cell_type": "code",
   "execution_count": 5,
   "metadata": {},
   "outputs": [
    {
     "data": {
      "text/plain": [
       "0"
      ]
     },
     "execution_count": 5,
     "metadata": {},
     "output_type": "execute_result"
    }
   ],
   "source": []
  },
  {
   "cell_type": "code",
   "execution_count": 6,
   "metadata": {},
   "outputs": [
    {
     "data": {
      "text/plain": [
       "<torch.cuda.device at 0x1bd059b38e0>"
      ]
     },
     "execution_count": 6,
     "metadata": {},
     "output_type": "execute_result"
    }
   ],
   "source": []
  },
  {
   "cell_type": "code",
   "execution_count": 7,
   "metadata": {},
   "outputs": [
    {
     "data": {
      "text/plain": [
       "'NVIDIA GeForce RTX 3060'"
      ]
     },
     "execution_count": 7,
     "metadata": {},
     "output_type": "execute_result"
    }
   ],
   "source": []
  },
  {
   "cell_type": "code",
   "execution_count": null,
   "metadata": {},
   "outputs": [],
   "source": []
  }
 ],
 "metadata": {
  "interpreter": {
   "hash": "2be5faf79681da6f2a61fdfdd5405d65d042280f7fba6178067603e3a2925119"
  },
  "kernelspec": {
   "display_name": "Python 3.10.0 64-bit",
   "language": "python",
   "name": "python3"
  },
  "language_info": {
   "codemirror_mode": {
    "name": "ipython",
    "version": 3
   },
   "file_extension": ".py",
   "mimetype": "text/x-python",
   "name": "python",
   "nbconvert_exporter": "python",
   "pygments_lexer": "ipython3",
   "version": "3.10.0"
  },
  "orig_nbformat": 4
 },
 "nbformat": 4,
 "nbformat_minor": 2
}
