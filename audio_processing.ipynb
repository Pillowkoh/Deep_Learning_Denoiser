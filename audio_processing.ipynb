{
 "cells": [
  {
   "cell_type": "code",
   "execution_count": 26,
   "metadata": {},
   "outputs": [],
   "source": [
    "import torchaudio\n",
    "import os\n",
    "import wget\n",
    "import scipy.io"
   ]
  },
  {
   "cell_type": "markdown",
   "metadata": {},
   "source": [
    "## Get Audio Data From Online Drive"
   ]
  },
  {
   "cell_type": "code",
   "execution_count": null,
   "metadata": {},
   "outputs": [],
   "source": [
    "Dateset_URL = ''\n",
    "HOME = 'C:\\Users\\claud\\OneDrive\\Documents\\School\\T7\\50.039 DL\\Deep_Learning_Denoiser\\noisy_samples\\noise_sample_177659.wav'\n",
    "\n",
    "dataset = wget.download(URL)"
   ]
  },
  {
   "cell_type": "code",
   "execution_count": 19,
   "metadata": {},
   "outputs": [
    {
     "ename": "RuntimeError",
     "evalue": "Error opening '.\\\\noisy_samples\\\\common_voice_en_1.mp3': File contains data in an unknown format.",
     "output_type": "error",
     "traceback": [
      "\u001b[1;31m---------------------------------------------------------------------------\u001b[0m",
      "\u001b[1;31mRuntimeError\u001b[0m                              Traceback (most recent call last)",
      "\u001b[1;32mc:\\Users\\claud\\OneDrive\\Documents\\School\\T7\\50.039 DL\\Deep_Learning_Denoiser\\audio_processing.ipynb Cell 4'\u001b[0m in \u001b[0;36m<cell line: 3>\u001b[1;34m()\u001b[0m\n\u001b[0;32m      <a href='vscode-notebook-cell:/c%3A/Users/claud/OneDrive/Documents/School/T7/50.039%20DL/Deep_Learning_Denoiser/audio_processing.ipynb#ch0000003?line=0'>1</a>\u001b[0m path \u001b[39m=\u001b[39m \u001b[39m'\u001b[39m\u001b[39m.\u001b[39m\u001b[39m\\\\\u001b[39;00m\u001b[39mnoisy_samples\u001b[39m\u001b[39m\\\\\u001b[39;00m\u001b[39mcommon_voice_en_1.mp3\u001b[39m\u001b[39m'\u001b[39m\n\u001b[0;32m      <a href='vscode-notebook-cell:/c%3A/Users/claud/OneDrive/Documents/School/T7/50.039%20DL/Deep_Learning_Denoiser/audio_processing.ipynb#ch0000003?line=1'>2</a>\u001b[0m \u001b[39m# path = '.\\\\noisy_samples\\\\noise_sample_62094.wav'\u001b[39;00m\n\u001b[1;32m----> <a href='vscode-notebook-cell:/c%3A/Users/claud/OneDrive/Documents/School/T7/50.039%20DL/Deep_Learning_Denoiser/audio_processing.ipynb#ch0000003?line=2'>3</a>\u001b[0m waveform, sample_rate \u001b[39m=\u001b[39m torchaudio\u001b[39m.\u001b[39;49mload(path)\n",
      "File \u001b[1;32m~\\AppData\\Roaming\\Python\\Python310\\site-packages\\torchaudio\\backend\\soundfile_backend.py:197\u001b[0m, in \u001b[0;36mload\u001b[1;34m(filepath, frame_offset, num_frames, normalize, channels_first, format)\u001b[0m\n\u001b[0;32m    <a href='file:///c%3A/Users/claud/AppData/Roaming/Python/Python310/site-packages/torchaudio/backend/soundfile_backend.py?line=122'>123</a>\u001b[0m \u001b[39m@_mod_utils\u001b[39m\u001b[39m.\u001b[39mrequires_soundfile()\n\u001b[0;32m    <a href='file:///c%3A/Users/claud/AppData/Roaming/Python/Python310/site-packages/torchaudio/backend/soundfile_backend.py?line=123'>124</a>\u001b[0m \u001b[39mdef\u001b[39;00m \u001b[39mload\u001b[39m(\n\u001b[0;32m    <a href='file:///c%3A/Users/claud/AppData/Roaming/Python/Python310/site-packages/torchaudio/backend/soundfile_backend.py?line=124'>125</a>\u001b[0m     filepath: \u001b[39mstr\u001b[39m,\n\u001b[1;32m   (...)\u001b[0m\n\u001b[0;32m    <a href='file:///c%3A/Users/claud/AppData/Roaming/Python/Python310/site-packages/torchaudio/backend/soundfile_backend.py?line=129'>130</a>\u001b[0m     \u001b[39mformat\u001b[39m: Optional[\u001b[39mstr\u001b[39m] \u001b[39m=\u001b[39m \u001b[39mNone\u001b[39;00m,\n\u001b[0;32m    <a href='file:///c%3A/Users/claud/AppData/Roaming/Python/Python310/site-packages/torchaudio/backend/soundfile_backend.py?line=130'>131</a>\u001b[0m ) \u001b[39m-\u001b[39m\u001b[39m>\u001b[39m Tuple[torch\u001b[39m.\u001b[39mTensor, \u001b[39mint\u001b[39m]:\n\u001b[0;32m    <a href='file:///c%3A/Users/claud/AppData/Roaming/Python/Python310/site-packages/torchaudio/backend/soundfile_backend.py?line=131'>132</a>\u001b[0m     \u001b[39m\"\"\"Load audio data from file.\u001b[39;00m\n\u001b[0;32m    <a href='file:///c%3A/Users/claud/AppData/Roaming/Python/Python310/site-packages/torchaudio/backend/soundfile_backend.py?line=132'>133</a>\u001b[0m \n\u001b[0;32m    <a href='file:///c%3A/Users/claud/AppData/Roaming/Python/Python310/site-packages/torchaudio/backend/soundfile_backend.py?line=133'>134</a>\u001b[0m \u001b[39m    Note:\u001b[39;00m\n\u001b[1;32m   (...)\u001b[0m\n\u001b[0;32m    <a href='file:///c%3A/Users/claud/AppData/Roaming/Python/Python310/site-packages/torchaudio/backend/soundfile_backend.py?line=194'>195</a>\u001b[0m \u001b[39m            `[channel, time]` else `[time, channel]`.\u001b[39;00m\n\u001b[0;32m    <a href='file:///c%3A/Users/claud/AppData/Roaming/Python/Python310/site-packages/torchaudio/backend/soundfile_backend.py?line=195'>196</a>\u001b[0m \u001b[39m    \"\"\"\u001b[39;00m\n\u001b[1;32m--> <a href='file:///c%3A/Users/claud/AppData/Roaming/Python/Python310/site-packages/torchaudio/backend/soundfile_backend.py?line=196'>197</a>\u001b[0m     \u001b[39mwith\u001b[39;00m soundfile\u001b[39m.\u001b[39;49mSoundFile(filepath, \u001b[39m\"\u001b[39;49m\u001b[39mr\u001b[39;49m\u001b[39m\"\u001b[39;49m) \u001b[39mas\u001b[39;00m file_:\n\u001b[0;32m    <a href='file:///c%3A/Users/claud/AppData/Roaming/Python/Python310/site-packages/torchaudio/backend/soundfile_backend.py?line=197'>198</a>\u001b[0m         \u001b[39mif\u001b[39;00m file_\u001b[39m.\u001b[39mformat \u001b[39m!=\u001b[39m \u001b[39m\"\u001b[39m\u001b[39mWAV\u001b[39m\u001b[39m\"\u001b[39m \u001b[39mor\u001b[39;00m normalize:\n\u001b[0;32m    <a href='file:///c%3A/Users/claud/AppData/Roaming/Python/Python310/site-packages/torchaudio/backend/soundfile_backend.py?line=198'>199</a>\u001b[0m             dtype \u001b[39m=\u001b[39m \u001b[39m\"\u001b[39m\u001b[39mfloat32\u001b[39m\u001b[39m\"\u001b[39m\n",
      "File \u001b[1;32m~\\AppData\\Roaming\\Python\\Python310\\site-packages\\soundfile.py:629\u001b[0m, in \u001b[0;36mSoundFile.__init__\u001b[1;34m(self, file, mode, samplerate, channels, subtype, endian, format, closefd)\u001b[0m\n\u001b[0;32m    <a href='file:///c%3A/Users/claud/AppData/Roaming/Python/Python310/site-packages/soundfile.py?line=625'>626</a>\u001b[0m \u001b[39mself\u001b[39m\u001b[39m.\u001b[39m_mode \u001b[39m=\u001b[39m mode\n\u001b[0;32m    <a href='file:///c%3A/Users/claud/AppData/Roaming/Python/Python310/site-packages/soundfile.py?line=626'>627</a>\u001b[0m \u001b[39mself\u001b[39m\u001b[39m.\u001b[39m_info \u001b[39m=\u001b[39m _create_info_struct(file, mode, samplerate, channels,\n\u001b[0;32m    <a href='file:///c%3A/Users/claud/AppData/Roaming/Python/Python310/site-packages/soundfile.py?line=627'>628</a>\u001b[0m                                  \u001b[39mformat\u001b[39m, subtype, endian)\n\u001b[1;32m--> <a href='file:///c%3A/Users/claud/AppData/Roaming/Python/Python310/site-packages/soundfile.py?line=628'>629</a>\u001b[0m \u001b[39mself\u001b[39m\u001b[39m.\u001b[39m_file \u001b[39m=\u001b[39m \u001b[39mself\u001b[39;49m\u001b[39m.\u001b[39;49m_open(file, mode_int, closefd)\n\u001b[0;32m    <a href='file:///c%3A/Users/claud/AppData/Roaming/Python/Python310/site-packages/soundfile.py?line=629'>630</a>\u001b[0m \u001b[39mif\u001b[39;00m \u001b[39mset\u001b[39m(mode)\u001b[39m.\u001b[39missuperset(\u001b[39m'\u001b[39m\u001b[39mr+\u001b[39m\u001b[39m'\u001b[39m) \u001b[39mand\u001b[39;00m \u001b[39mself\u001b[39m\u001b[39m.\u001b[39mseekable():\n\u001b[0;32m    <a href='file:///c%3A/Users/claud/AppData/Roaming/Python/Python310/site-packages/soundfile.py?line=630'>631</a>\u001b[0m     \u001b[39m# Move write position to 0 (like in Python file objects)\u001b[39;00m\n\u001b[0;32m    <a href='file:///c%3A/Users/claud/AppData/Roaming/Python/Python310/site-packages/soundfile.py?line=631'>632</a>\u001b[0m     \u001b[39mself\u001b[39m\u001b[39m.\u001b[39mseek(\u001b[39m0\u001b[39m)\n",
      "File \u001b[1;32m~\\AppData\\Roaming\\Python\\Python310\\site-packages\\soundfile.py:1183\u001b[0m, in \u001b[0;36mSoundFile._open\u001b[1;34m(self, file, mode_int, closefd)\u001b[0m\n\u001b[0;32m   <a href='file:///c%3A/Users/claud/AppData/Roaming/Python/Python310/site-packages/soundfile.py?line=1180'>1181</a>\u001b[0m \u001b[39melse\u001b[39;00m:\n\u001b[0;32m   <a href='file:///c%3A/Users/claud/AppData/Roaming/Python/Python310/site-packages/soundfile.py?line=1181'>1182</a>\u001b[0m     \u001b[39mraise\u001b[39;00m \u001b[39mTypeError\u001b[39;00m(\u001b[39m\"\u001b[39m\u001b[39mInvalid file: \u001b[39m\u001b[39m{0!r}\u001b[39;00m\u001b[39m\"\u001b[39m\u001b[39m.\u001b[39mformat(\u001b[39mself\u001b[39m\u001b[39m.\u001b[39mname))\n\u001b[1;32m-> <a href='file:///c%3A/Users/claud/AppData/Roaming/Python/Python310/site-packages/soundfile.py?line=1182'>1183</a>\u001b[0m _error_check(_snd\u001b[39m.\u001b[39;49msf_error(file_ptr),\n\u001b[0;32m   <a href='file:///c%3A/Users/claud/AppData/Roaming/Python/Python310/site-packages/soundfile.py?line=1183'>1184</a>\u001b[0m              \u001b[39m\"\u001b[39;49m\u001b[39mError opening \u001b[39;49m\u001b[39m{0!r}\u001b[39;49;00m\u001b[39m: \u001b[39;49m\u001b[39m\"\u001b[39;49m\u001b[39m.\u001b[39;49mformat(\u001b[39mself\u001b[39;49m\u001b[39m.\u001b[39;49mname))\n\u001b[0;32m   <a href='file:///c%3A/Users/claud/AppData/Roaming/Python/Python310/site-packages/soundfile.py?line=1184'>1185</a>\u001b[0m \u001b[39mif\u001b[39;00m mode_int \u001b[39m==\u001b[39m _snd\u001b[39m.\u001b[39mSFM_WRITE:\n\u001b[0;32m   <a href='file:///c%3A/Users/claud/AppData/Roaming/Python/Python310/site-packages/soundfile.py?line=1185'>1186</a>\u001b[0m     \u001b[39m# Due to a bug in libsndfile version <= 1.0.25, frames != 0\u001b[39;00m\n\u001b[0;32m   <a href='file:///c%3A/Users/claud/AppData/Roaming/Python/Python310/site-packages/soundfile.py?line=1186'>1187</a>\u001b[0m     \u001b[39m# when opening a named pipe in SFM_WRITE mode.\u001b[39;00m\n\u001b[0;32m   <a href='file:///c%3A/Users/claud/AppData/Roaming/Python/Python310/site-packages/soundfile.py?line=1187'>1188</a>\u001b[0m     \u001b[39m# See http://github.com/erikd/libsndfile/issues/77.\u001b[39;00m\n\u001b[0;32m   <a href='file:///c%3A/Users/claud/AppData/Roaming/Python/Python310/site-packages/soundfile.py?line=1188'>1189</a>\u001b[0m     \u001b[39mself\u001b[39m\u001b[39m.\u001b[39m_info\u001b[39m.\u001b[39mframes \u001b[39m=\u001b[39m \u001b[39m0\u001b[39m\n",
      "File \u001b[1;32m~\\AppData\\Roaming\\Python\\Python310\\site-packages\\soundfile.py:1357\u001b[0m, in \u001b[0;36m_error_check\u001b[1;34m(err, prefix)\u001b[0m\n\u001b[0;32m   <a href='file:///c%3A/Users/claud/AppData/Roaming/Python/Python310/site-packages/soundfile.py?line=1354'>1355</a>\u001b[0m \u001b[39mif\u001b[39;00m err \u001b[39m!=\u001b[39m \u001b[39m0\u001b[39m:\n\u001b[0;32m   <a href='file:///c%3A/Users/claud/AppData/Roaming/Python/Python310/site-packages/soundfile.py?line=1355'>1356</a>\u001b[0m     err_str \u001b[39m=\u001b[39m _snd\u001b[39m.\u001b[39msf_error_number(err)\n\u001b[1;32m-> <a href='file:///c%3A/Users/claud/AppData/Roaming/Python/Python310/site-packages/soundfile.py?line=1356'>1357</a>\u001b[0m     \u001b[39mraise\u001b[39;00m \u001b[39mRuntimeError\u001b[39;00m(prefix \u001b[39m+\u001b[39m _ffi\u001b[39m.\u001b[39mstring(err_str)\u001b[39m.\u001b[39mdecode(\u001b[39m'\u001b[39m\u001b[39mutf-8\u001b[39m\u001b[39m'\u001b[39m, \u001b[39m'\u001b[39m\u001b[39mreplace\u001b[39m\u001b[39m'\u001b[39m))\n",
      "\u001b[1;31mRuntimeError\u001b[0m: Error opening '.\\\\noisy_samples\\\\common_voice_en_1.mp3': File contains data in an unknown format."
     ]
    }
   ],
   "source": [
    "path = '.\\\\noisy_samples\\\\common_voice_en_1.mp3'\n",
    "# path = '.\\\\noisy_samples\\\\noise_sample_62094.wav'\n",
    "waveform, sample_rate = torchaudio.load(path)"
   ]
  },
  {
   "cell_type": "code",
   "execution_count": 13,
   "metadata": {},
   "outputs": [
    {
     "data": {
      "text/plain": [
       "tensor([[-0.0002, -0.0179, -0.0152,  ..., -0.0032, -0.0045, -0.0187]])"
      ]
     },
     "execution_count": 13,
     "metadata": {},
     "output_type": "execute_result"
    }
   ],
   "source": [
    "waveform"
   ]
  },
  {
   "cell_type": "code",
   "execution_count": 14,
   "metadata": {},
   "outputs": [
    {
     "data": {
      "text/plain": [
       "torch.Size([1, 106370])"
      ]
     },
     "execution_count": 14,
     "metadata": {},
     "output_type": "execute_result"
    }
   ],
   "source": [
    "waveform.shape"
   ]
  },
  {
   "cell_type": "code",
   "execution_count": 29,
   "metadata": {},
   "outputs": [
    {
     "ename": "ValueError",
     "evalue": "File format b'ID3\\x04' not understood. Only 'RIFF' and 'RIFX' supported.",
     "output_type": "error",
     "traceback": [
      "\u001b[1;31m---------------------------------------------------------------------------\u001b[0m",
      "\u001b[1;31mValueError\u001b[0m                                Traceback (most recent call last)",
      "\u001b[1;32mc:\\Users\\claud\\OneDrive\\Documents\\School\\T7\\50.039 DL\\Deep_Learning_Denoiser\\audio_processing.ipynb Cell 7'\u001b[0m in \u001b[0;36m<cell line: 3>\u001b[1;34m()\u001b[0m\n\u001b[0;32m      <a href='vscode-notebook-cell:/c%3A/Users/claud/OneDrive/Documents/School/T7/50.039%20DL/Deep_Learning_Denoiser/audio_processing.ipynb#ch0000006?line=2'>3</a>\u001b[0m \u001b[39mfor\u001b[39;00m filename \u001b[39min\u001b[39;00m os\u001b[39m.\u001b[39mlistdir(\u001b[39mdir\u001b[39m):\n\u001b[0;32m      <a href='vscode-notebook-cell:/c%3A/Users/claud/OneDrive/Documents/School/T7/50.039%20DL/Deep_Learning_Denoiser/audio_processing.ipynb#ch0000006?line=3'>4</a>\u001b[0m     path \u001b[39m=\u001b[39m os\u001b[39m.\u001b[39mpath\u001b[39m.\u001b[39mjoin(\u001b[39mdir\u001b[39m, filename)\n\u001b[1;32m----> <a href='vscode-notebook-cell:/c%3A/Users/claud/OneDrive/Documents/School/T7/50.039%20DL/Deep_Learning_Denoiser/audio_processing.ipynb#ch0000006?line=4'>5</a>\u001b[0m     rate, data \u001b[39m=\u001b[39m scipy\u001b[39m.\u001b[39;49mio\u001b[39m.\u001b[39;49mwavfile\u001b[39m.\u001b[39;49mread(path)\n\u001b[0;32m      <a href='vscode-notebook-cell:/c%3A/Users/claud/OneDrive/Documents/School/T7/50.039%20DL/Deep_Learning_Denoiser/audio_processing.ipynb#ch0000006?line=5'>6</a>\u001b[0m     \u001b[39mprint\u001b[39m(data)\n",
      "File \u001b[1;32mC:\\Python310\\lib\\site-packages\\scipy\\io\\wavfile.py:650\u001b[0m, in \u001b[0;36mread\u001b[1;34m(filename, mmap)\u001b[0m\n\u001b[0;32m    <a href='file:///c%3A/Python310/lib/site-packages/scipy/io/wavfile.py?line=646'>647</a>\u001b[0m     fid \u001b[39m=\u001b[39m \u001b[39mopen\u001b[39m(filename, \u001b[39m'\u001b[39m\u001b[39mrb\u001b[39m\u001b[39m'\u001b[39m)\n\u001b[0;32m    <a href='file:///c%3A/Python310/lib/site-packages/scipy/io/wavfile.py?line=648'>649</a>\u001b[0m \u001b[39mtry\u001b[39;00m:\n\u001b[1;32m--> <a href='file:///c%3A/Python310/lib/site-packages/scipy/io/wavfile.py?line=649'>650</a>\u001b[0m     file_size, is_big_endian \u001b[39m=\u001b[39m _read_riff_chunk(fid)\n\u001b[0;32m    <a href='file:///c%3A/Python310/lib/site-packages/scipy/io/wavfile.py?line=650'>651</a>\u001b[0m     fmt_chunk_received \u001b[39m=\u001b[39m \u001b[39mFalse\u001b[39;00m\n\u001b[0;32m    <a href='file:///c%3A/Python310/lib/site-packages/scipy/io/wavfile.py?line=651'>652</a>\u001b[0m     data_chunk_received \u001b[39m=\u001b[39m \u001b[39mFalse\u001b[39;00m\n",
      "File \u001b[1;32mC:\\Python310\\lib\\site-packages\\scipy\\io\\wavfile.py:521\u001b[0m, in \u001b[0;36m_read_riff_chunk\u001b[1;34m(fid)\u001b[0m\n\u001b[0;32m    <a href='file:///c%3A/Python310/lib/site-packages/scipy/io/wavfile.py?line=517'>518</a>\u001b[0m     fmt \u001b[39m=\u001b[39m \u001b[39m'\u001b[39m\u001b[39m>I\u001b[39m\u001b[39m'\u001b[39m\n\u001b[0;32m    <a href='file:///c%3A/Python310/lib/site-packages/scipy/io/wavfile.py?line=518'>519</a>\u001b[0m \u001b[39melse\u001b[39;00m:\n\u001b[0;32m    <a href='file:///c%3A/Python310/lib/site-packages/scipy/io/wavfile.py?line=519'>520</a>\u001b[0m     \u001b[39m# There are also .wav files with \"FFIR\" or \"XFIR\" signatures?\u001b[39;00m\n\u001b[1;32m--> <a href='file:///c%3A/Python310/lib/site-packages/scipy/io/wavfile.py?line=520'>521</a>\u001b[0m     \u001b[39mraise\u001b[39;00m \u001b[39mValueError\u001b[39;00m(\u001b[39mf\u001b[39m\u001b[39m\"\u001b[39m\u001b[39mFile format \u001b[39m\u001b[39m{\u001b[39;00m\u001b[39mrepr\u001b[39m(str1)\u001b[39m}\u001b[39;00m\u001b[39m not understood. Only \u001b[39m\u001b[39m\"\u001b[39m\n\u001b[0;32m    <a href='file:///c%3A/Python310/lib/site-packages/scipy/io/wavfile.py?line=521'>522</a>\u001b[0m                      \u001b[39m\"\u001b[39m\u001b[39m'\u001b[39m\u001b[39mRIFF\u001b[39m\u001b[39m'\u001b[39m\u001b[39m and \u001b[39m\u001b[39m'\u001b[39m\u001b[39mRIFX\u001b[39m\u001b[39m'\u001b[39m\u001b[39m supported.\u001b[39m\u001b[39m\"\u001b[39m)\n\u001b[0;32m    <a href='file:///c%3A/Python310/lib/site-packages/scipy/io/wavfile.py?line=523'>524</a>\u001b[0m \u001b[39m# Size of entire file\u001b[39;00m\n\u001b[0;32m    <a href='file:///c%3A/Python310/lib/site-packages/scipy/io/wavfile.py?line=524'>525</a>\u001b[0m file_size \u001b[39m=\u001b[39m struct\u001b[39m.\u001b[39munpack(fmt, fid\u001b[39m.\u001b[39mread(\u001b[39m4\u001b[39m))[\u001b[39m0\u001b[39m] \u001b[39m+\u001b[39m \u001b[39m8\u001b[39m\n",
      "\u001b[1;31mValueError\u001b[0m: File format b'ID3\\x04' not understood. Only 'RIFF' and 'RIFX' supported."
     ]
    }
   ],
   "source": [
    "dir = 'E:\\\\Dev\\\\ML\\\\audio_denoiser\\\\clean_audio'\n",
    "\n",
    "for filename in os.listdir(dir):\n",
    "    path = os.path.join(dir, filename)\n",
    "    rate, data = scipy.io.wavfile.read(path)\n",
    "    print(data)"
   ]
  }
 ],
 "metadata": {
  "interpreter": {
   "hash": "2be5faf79681da6f2a61fdfdd5405d65d042280f7fba6178067603e3a2925119"
  },
  "kernelspec": {
   "display_name": "Python 3.10.0 64-bit",
   "language": "python",
   "name": "python3"
  },
  "language_info": {
   "codemirror_mode": {
    "name": "ipython",
    "version": 3
   },
   "file_extension": ".py",
   "mimetype": "text/x-python",
   "name": "python",
   "nbconvert_exporter": "python",
   "pygments_lexer": "ipython3",
   "version": "3.10.0"
  },
  "orig_nbformat": 4
 },
 "nbformat": 4,
 "nbformat_minor": 2
}
