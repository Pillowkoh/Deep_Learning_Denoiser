{
 "cells": [
  {
   "cell_type": "code",
   "execution_count": 1,
   "metadata": {},
   "outputs": [],
   "source": [
    "import torchaudio\n",
    "import os\n",
    "# import wget\n",
    "import scipy.io"
   ]
  },
  {
   "cell_type": "markdown",
   "metadata": {},
   "source": [
    "## Get Audio Data From Online Drive"
   ]
  },
  {
   "cell_type": "code",
   "execution_count": null,
   "metadata": {},
   "outputs": [],
   "source": [
    "Dateset_URL = ''\n",
    "HOME = 'C:\\Users\\claud\\OneDrive\\Documents\\School\\T7\\50.039 DL\\Deep_Learning_Denoiser\\noisy_samples\\noise_sample_177659.wav'\n",
    "\n",
    "dataset = wget.download(URL)"
   ]
  },
  {
   "cell_type": "code",
   "execution_count": 12,
   "metadata": {},
   "outputs": [],
   "source": [
    "# path = '.\\\\noisy_samples\\\\common_voice_en_1.mp3'\n",
    "path = '.\\\\data\\\\clean_audio_WAV\\\\common_voice_en_1.wav'\n",
    "# path = '.\\\\noisy_samples\\\\noise_sample_62094.wav'\n",
    "waveform, sample_rate = torchaudio.load(path, normalize=True)"
   ]
  },
  {
   "cell_type": "code",
   "execution_count": 14,
   "metadata": {},
   "outputs": [
    {
     "data": {
      "text/plain": [
       "tensor([[0., 0., 0.,  ..., 0., 0., 0.]])"
      ]
     },
     "execution_count": 14,
     "metadata": {},
     "output_type": "execute_result"
    }
   ],
   "source": [
    "waveform"
   ]
  },
  {
   "cell_type": "code",
   "execution_count": 5,
   "metadata": {},
   "outputs": [
    {
     "data": {
      "text/plain": [
       "torch.Size([1, 107136])"
      ]
     },
     "execution_count": 5,
     "metadata": {},
     "output_type": "execute_result"
    }
   ],
   "source": [
    "waveform.shape"
   ]
  },
  {
   "cell_type": "code",
   "execution_count": 29,
   "metadata": {},
   "outputs": [
    {
     "ename": "ValueError",
     "evalue": "File format b'ID3\\x04' not understood. Only 'RIFF' and 'RIFX' supported.",
     "output_type": "error",
     "traceback": [
      "\u001b[1;31m---------------------------------------------------------------------------\u001b[0m",
      "\u001b[1;31mValueError\u001b[0m                                Traceback (most recent call last)",
      "\u001b[1;32mc:\\Users\\claud\\OneDrive\\Documents\\School\\T7\\50.039 DL\\Deep_Learning_Denoiser\\audio_processing.ipynb Cell 7'\u001b[0m in \u001b[0;36m<cell line: 3>\u001b[1;34m()\u001b[0m\n\u001b[0;32m      <a href='vscode-notebook-cell:/c%3A/Users/claud/OneDrive/Documents/School/T7/50.039%20DL/Deep_Learning_Denoiser/audio_processing.ipynb#ch0000006?line=2'>3</a>\u001b[0m \u001b[39mfor\u001b[39;00m filename \u001b[39min\u001b[39;00m os\u001b[39m.\u001b[39mlistdir(\u001b[39mdir\u001b[39m):\n\u001b[0;32m      <a href='vscode-notebook-cell:/c%3A/Users/claud/OneDrive/Documents/School/T7/50.039%20DL/Deep_Learning_Denoiser/audio_processing.ipynb#ch0000006?line=3'>4</a>\u001b[0m     path \u001b[39m=\u001b[39m os\u001b[39m.\u001b[39mpath\u001b[39m.\u001b[39mjoin(\u001b[39mdir\u001b[39m, filename)\n\u001b[1;32m----> <a href='vscode-notebook-cell:/c%3A/Users/claud/OneDrive/Documents/School/T7/50.039%20DL/Deep_Learning_Denoiser/audio_processing.ipynb#ch0000006?line=4'>5</a>\u001b[0m     rate, data \u001b[39m=\u001b[39m scipy\u001b[39m.\u001b[39;49mio\u001b[39m.\u001b[39;49mwavfile\u001b[39m.\u001b[39;49mread(path)\n\u001b[0;32m      <a href='vscode-notebook-cell:/c%3A/Users/claud/OneDrive/Documents/School/T7/50.039%20DL/Deep_Learning_Denoiser/audio_processing.ipynb#ch0000006?line=5'>6</a>\u001b[0m     \u001b[39mprint\u001b[39m(data)\n",
      "File \u001b[1;32mC:\\Python310\\lib\\site-packages\\scipy\\io\\wavfile.py:650\u001b[0m, in \u001b[0;36mread\u001b[1;34m(filename, mmap)\u001b[0m\n\u001b[0;32m    <a href='file:///c%3A/Python310/lib/site-packages/scipy/io/wavfile.py?line=646'>647</a>\u001b[0m     fid \u001b[39m=\u001b[39m \u001b[39mopen\u001b[39m(filename, \u001b[39m'\u001b[39m\u001b[39mrb\u001b[39m\u001b[39m'\u001b[39m)\n\u001b[0;32m    <a href='file:///c%3A/Python310/lib/site-packages/scipy/io/wavfile.py?line=648'>649</a>\u001b[0m \u001b[39mtry\u001b[39;00m:\n\u001b[1;32m--> <a href='file:///c%3A/Python310/lib/site-packages/scipy/io/wavfile.py?line=649'>650</a>\u001b[0m     file_size, is_big_endian \u001b[39m=\u001b[39m _read_riff_chunk(fid)\n\u001b[0;32m    <a href='file:///c%3A/Python310/lib/site-packages/scipy/io/wavfile.py?line=650'>651</a>\u001b[0m     fmt_chunk_received \u001b[39m=\u001b[39m \u001b[39mFalse\u001b[39;00m\n\u001b[0;32m    <a href='file:///c%3A/Python310/lib/site-packages/scipy/io/wavfile.py?line=651'>652</a>\u001b[0m     data_chunk_received \u001b[39m=\u001b[39m \u001b[39mFalse\u001b[39;00m\n",
      "File \u001b[1;32mC:\\Python310\\lib\\site-packages\\scipy\\io\\wavfile.py:521\u001b[0m, in \u001b[0;36m_read_riff_chunk\u001b[1;34m(fid)\u001b[0m\n\u001b[0;32m    <a href='file:///c%3A/Python310/lib/site-packages/scipy/io/wavfile.py?line=517'>518</a>\u001b[0m     fmt \u001b[39m=\u001b[39m \u001b[39m'\u001b[39m\u001b[39m>I\u001b[39m\u001b[39m'\u001b[39m\n\u001b[0;32m    <a href='file:///c%3A/Python310/lib/site-packages/scipy/io/wavfile.py?line=518'>519</a>\u001b[0m \u001b[39melse\u001b[39;00m:\n\u001b[0;32m    <a href='file:///c%3A/Python310/lib/site-packages/scipy/io/wavfile.py?line=519'>520</a>\u001b[0m     \u001b[39m# There are also .wav files with \"FFIR\" or \"XFIR\" signatures?\u001b[39;00m\n\u001b[1;32m--> <a href='file:///c%3A/Python310/lib/site-packages/scipy/io/wavfile.py?line=520'>521</a>\u001b[0m     \u001b[39mraise\u001b[39;00m \u001b[39mValueError\u001b[39;00m(\u001b[39mf\u001b[39m\u001b[39m\"\u001b[39m\u001b[39mFile format \u001b[39m\u001b[39m{\u001b[39;00m\u001b[39mrepr\u001b[39m(str1)\u001b[39m}\u001b[39;00m\u001b[39m not understood. Only \u001b[39m\u001b[39m\"\u001b[39m\n\u001b[0;32m    <a href='file:///c%3A/Python310/lib/site-packages/scipy/io/wavfile.py?line=521'>522</a>\u001b[0m                      \u001b[39m\"\u001b[39m\u001b[39m'\u001b[39m\u001b[39mRIFF\u001b[39m\u001b[39m'\u001b[39m\u001b[39m and \u001b[39m\u001b[39m'\u001b[39m\u001b[39mRIFX\u001b[39m\u001b[39m'\u001b[39m\u001b[39m supported.\u001b[39m\u001b[39m\"\u001b[39m)\n\u001b[0;32m    <a href='file:///c%3A/Python310/lib/site-packages/scipy/io/wavfile.py?line=523'>524</a>\u001b[0m \u001b[39m# Size of entire file\u001b[39;00m\n\u001b[0;32m    <a href='file:///c%3A/Python310/lib/site-packages/scipy/io/wavfile.py?line=524'>525</a>\u001b[0m file_size \u001b[39m=\u001b[39m struct\u001b[39m.\u001b[39munpack(fmt, fid\u001b[39m.\u001b[39mread(\u001b[39m4\u001b[39m))[\u001b[39m0\u001b[39m] \u001b[39m+\u001b[39m \u001b[39m8\u001b[39m\n",
      "\u001b[1;31mValueError\u001b[0m: File format b'ID3\\x04' not understood. Only 'RIFF' and 'RIFX' supported."
     ]
    }
   ],
   "source": [
    "dir = 'E:\\\\Dev\\\\ML\\\\audio_denoiser\\\\clean_audio'\n",
    "\n",
    "for filename in os.listdir(dir):\n",
    "    path = os.path.join(dir, filename)\n",
    "    rate, data = scipy.io.wavfile.read(path)\n",
    "    print(data)"
   ]
  }
 ],
 "metadata": {
  "interpreter": {
   "hash": "2be5faf79681da6f2a61fdfdd5405d65d042280f7fba6178067603e3a2925119"
  },
  "kernelspec": {
   "display_name": "Python 3.10.0 64-bit",
   "language": "python",
   "name": "python3"
  },
  "language_info": {
   "codemirror_mode": {
    "name": "ipython",
    "version": 3
   },
   "file_extension": ".py",
   "mimetype": "text/x-python",
   "name": "python",
   "nbconvert_exporter": "python",
   "pygments_lexer": "ipython3",
   "version": "3.9.4"
  },
  "orig_nbformat": 4
 },
 "nbformat": 4,
 "nbformat_minor": 2
}
