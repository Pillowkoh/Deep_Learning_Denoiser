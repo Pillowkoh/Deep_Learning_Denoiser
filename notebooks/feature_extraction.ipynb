{
 "cells": [
  {
   "cell_type": "markdown",
   "metadata": {},
   "source": [
    "# Feature Extraction\n",
    "## Extracting MFCC features"
   ]
  },
  {
   "cell_type": "code",
   "execution_count": 1,
   "metadata": {},
   "outputs": [
    {
     "name": "stdout",
     "output_type": "stream",
     "text": [
      "Package            Version\n",
      "------------------ ------------\n",
      "appdirs            1.4.4\n",
      "asttokens          2.0.5\n",
      "audioread          2.1.9\n",
      "backcall           0.2.0\n",
      "certifi            2021.10.8\n",
      "cffi               1.15.0\n",
      "charset-normalizer 2.0.12\n",
      "colorama           0.4.4\n",
      "cycler             0.11.0\n",
      "debugpy            1.6.0\n",
      "decorator          5.1.1\n",
      "entrypoints        0.4\n",
      "executing          0.8.3\n",
      "fonttools          4.31.2\n",
      "idna               3.3\n",
      "ipykernel          6.13.0\n",
      "ipython            8.2.0\n",
      "jedi               0.18.1\n",
      "joblib             1.1.0\n",
      "jupyter-client     7.2.2\n",
      "jupyter-core       4.9.2\n",
      "kiwisolver         1.4.2\n",
      "librosa            0.9.1\n",
      "llvmlite           0.38.0\n",
      "matplotlib         3.5.1\n",
      "matplotlib-inline  0.1.3\n",
      "nest-asyncio       1.5.5\n",
      "numba              0.55.1\n",
      "numpy              1.21.5\n",
      "packaging          21.3\n",
      "parso              0.8.3\n",
      "pickleshare        0.7.5\n",
      "Pillow             9.1.0\n",
      "pip                22.0.4\n",
      "pooch              1.6.0\n",
      "prompt-toolkit     3.0.29\n",
      "psutil             5.9.0\n",
      "pure-eval          0.2.2\n",
      "pycparser          2.21\n",
      "Pygments           2.11.2\n",
      "pyparsing          3.0.7\n",
      "python-dateutil    2.8.2\n",
      "pywin32            303\n",
      "pyzmq              22.3.0\n",
      "requests           2.27.1\n",
      "resampy            0.2.2\n",
      "scikit-learn       1.0.2\n",
      "scipy              1.8.0\n",
      "setuptools         57.4.0\n",
      "six                1.16.0\n",
      "SoundFile          0.10.3.post1\n",
      "stack-data         0.2.0\n",
      "threadpoolctl      3.1.0\n",
      "torch              1.11.0\n",
      "tornado            6.1\n",
      "traitlets          5.1.1\n",
      "typing_extensions  4.1.1\n",
      "urllib3            1.26.9\n",
      "wcwidth            0.2.5\n",
      "Note: you may need to restart the kernel to use updated packages.\n"
     ]
    },
    {
     "name": "stderr",
     "output_type": "stream",
     "text": [
      "WARNING: Ignoring invalid distribution -ip (c:\\python310\\lib\\site-packages)\n",
      "WARNING: Ignoring invalid distribution -ip (c:\\python310\\lib\\site-packages)\n"
     ]
    }
   ],
   "source": [
    "pip list"
   ]
  },
  {
   "cell_type": "code",
   "execution_count": 3,
   "metadata": {},
   "outputs": [],
   "source": [
    "import os\n",
    "import librosa\n",
    "import warnings\n",
    "from tqdm import tqdm\n",
    "import csv\n",
    "import numpy as np\n",
    "\n",
    "warnings.filterwarnings('ignore')"
   ]
  },
  {
   "cell_type": "code",
   "execution_count": 57,
   "metadata": {},
   "outputs": [],
   "source": [
    "def get_mfcc_data(audio_path):\n",
    "    mfcc_data = {}\n",
    "    for filename in tqdm(os.listdir(audio_path)):\n",
    "        if filename.endswith('mp3') or filename.endswith('wav'):\n",
    "            y, sr = librosa.load(audio_path + '/' + filename)\n",
    "            mfcc = librosa.feature.mfcc(y=y, sr=sr)\n",
    "            mfcc_data[filename] = mfcc\n",
    "    \n",
    "    return mfcc_data"
   ]
  },
  {
   "cell_type": "code",
   "execution_count": 52,
   "metadata": {},
   "outputs": [],
   "source": [
    "def make_mfcc_csv(mfcc_data, folder_path):\n",
    "    for key, val in mfcc_data.items():\n",
    "        np.savetxt(folder_path+'/mfcc_'+key[:-4]+'.csv', val, delimiter=',') #-4 to get rid of .wav/.mp3"
   ]
  },
  {
   "cell_type": "code",
   "execution_count": 53,
   "metadata": {},
   "outputs": [
    {
     "name": "stderr",
     "output_type": "stream",
     "text": [
      "100%|██████████| 10000/10000 [54:42<00:00,  3.05it/s] \n"
     ]
    }
   ],
   "source": [
    "# Assume: Clean and Noisy audio files are in separate folders, in another folder named data\n",
    "\n",
    "clean_mfcc = get_mfcc_data('data/clean_audio')\n",
    "make_mfcc_csv(clean_mfcc, 'data/clean_audio')"
   ]
  },
  {
   "cell_type": "code",
   "execution_count": 64,
   "metadata": {},
   "outputs": [
    {
     "name": "stderr",
     "output_type": "stream",
     "text": [
      "100%|██████████| 10000/10000 [01:12<00:00, 137.37it/s]\n"
     ]
    }
   ],
   "source": [
    "noisy_mfcc = get_mfcc_data('data/noisy_audio')\n",
    "make_mfcc_csv(noisy_mfcc, 'data/noisy_audio')"
   ]
  },
  {
   "cell_type": "markdown",
   "metadata": {},
   "source": [
    "## Extracting Mel Spectrogram"
   ]
  },
  {
   "cell_type": "code",
   "execution_count": 60,
   "metadata": {},
   "outputs": [],
   "source": [
    "def get_mel_spec_data(audio_path):\n",
    "    mel_spec_data = {}\n",
    "    for filename in tqdm(os.listdir(audio_path)):\n",
    "        if filename.endswith('wav') or filename.endswith('mp3'):\n",
    "            y, sr = librosa.load(audio_path + '/' + filename)\n",
    "            mel_spec = librosa.feature.mfcc(y=y, sr=sr)\n",
    "            mel_spec_data[filename] = mel_spec\n",
    "    \n",
    "    return mel_spec_data"
   ]
  },
  {
   "cell_type": "code",
   "execution_count": 61,
   "metadata": {},
   "outputs": [],
   "source": [
    "def make_mel_spec_csv(mel_spec_data, folder_path):\n",
    "    for key, val in mel_spec_data.items():\n",
    "        np.savetxt(folder_path+'/mel_spec_'+key[:-4]+'.csv', val, delimiter=',') #-4 to get rid of .wav"
   ]
  },
  {
   "cell_type": "code",
   "execution_count": 63,
   "metadata": {},
   "outputs": [
    {
     "name": "stderr",
     "output_type": "stream",
     "text": [
      "100%|██████████| 20000/20000 [1:34:37<00:00,  3.52it/s]     \n"
     ]
    }
   ],
   "source": [
    "clean_mfcc = get_mel_spec_data('data/clean_audio')\n",
    "make_mel_spec_csv(clean_mfcc, 'data/clean_audio')"
   ]
  },
  {
   "cell_type": "code",
   "execution_count": 65,
   "metadata": {},
   "outputs": [
    {
     "name": "stderr",
     "output_type": "stream",
     "text": [
      "100%|██████████| 20000/20000 [01:17<00:00, 259.27it/s]\n"
     ]
    }
   ],
   "source": [
    "noisy_mfcc = get_mel_spec_data('data/noisy_audio')\n",
    "make_mel_spec_csv(noisy_mfcc, 'data/noisy_audio')"
   ]
  }
 ],
 "metadata": {
  "interpreter": {
   "hash": "b3ba2566441a7c06988d0923437866b63cedc61552a5af99d1f4fb67d367b25f"
  },
  "kernelspec": {
   "display_name": "Python 3.8.8 ('base')",
   "language": "python",
   "name": "python3"
  },
  "language_info": {
   "codemirror_mode": {
    "name": "ipython",
    "version": 3
   },
   "file_extension": ".py",
   "mimetype": "text/x-python",
   "name": "python",
   "nbconvert_exporter": "python",
   "pygments_lexer": "ipython3",
   "version": "3.10.0"
  },
  "orig_nbformat": 4
 },
 "nbformat": 4,
 "nbformat_minor": 2
}
