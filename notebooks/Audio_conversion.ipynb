{
 "cells": [
  {
   "cell_type": "markdown",
   "metadata": {},
   "source": [
    "## Converting MP3 to WAV"
   ]
  },
  {
   "cell_type": "code",
   "execution_count": 2,
   "metadata": {},
   "outputs": [],
   "source": [
    "from tqdm import tqdm\n",
    "from pydub import AudioSegment\n",
    "from os import listdir\n",
    "from os.path import isfile, join"
   ]
  },
  {
   "cell_type": "code",
   "execution_count": 2,
   "metadata": {},
   "outputs": [],
   "source": [
    "path_input = '../data/clean_audio'\n",
    "path_output = '../data/clean_audio_WAV'"
   ]
  },
  {
   "cell_type": "code",
   "execution_count": 6,
   "metadata": {},
   "outputs": [
    {
     "name": "stderr",
     "output_type": "stream",
     "text": [
      "100%|██████████| 10000/10000 [17:48<00:00,  9.35it/s]\n"
     ]
    }
   ],
   "source": [
    "file_data = [f for f in listdir(path_input) if isfile (join(path_input, f))]\n",
    "for line in tqdm(file_data):\n",
    "    if ( line[-1:] == '\\n' ):\n",
    "        line = line[:-1]\n",
    "\n",
    "    # Reading Song\n",
    "    songname = path_input + '/' + line\n",
    "    save_dest = path_output + '/' + line.split('.')[0] + '.wav'\n",
    "    # print(save_dest)\n",
    "\n",
    "    sound = AudioSegment.from_mp3(songname)\n",
    "    sound.export(save_dest, format=\"wav\")"
   ]
  },
  {
   "cell_type": "markdown",
   "metadata": {},
   "source": [
    "## Converting WAV to Tensors"
   ]
  },
  {
   "cell_type": "code",
   "execution_count": 3,
   "metadata": {},
   "outputs": [],
   "source": [
    "import os\n",
    "import torch\n",
    "import torch.nn.functional as F\n",
    "import torchaudio"
   ]
  },
  {
   "cell_type": "code",
   "execution_count": 2,
   "metadata": {},
   "outputs": [],
   "source": [
    "# UNCOMMENT EACH BLOCK FOR CLEAN AND NOISY DATASET\n",
    "\n",
    "# # Settings for clean files\n",
    "path_input = '../data/clean_audio_WAV'\n",
    "path_output = '../data/clean_audio_tensors_v2'\n",
    "FILE_HEADER = 'clean'\n",
    "\n",
    "# # Settings for noisy files\n",
    "# path_input = '../data/noisy_audio_WAV'\n",
    "# path_output = '../data/noisy_audio_tensors_v2'\n",
    "# FILE_HEADER = 'noisy'"
   ]
  },
  {
   "cell_type": "code",
   "execution_count": null,
   "metadata": {},
   "outputs": [],
   "source": [
    "def pad(data, size):\n",
    "    assert data.size(dim=1) <= size\n",
    "    if data.size(dim=1) == size:\n",
    "        return data\n",
    "    padded_data  = F.pad(data, pad=(0, size - data.shape[1]))\n",
    "    return padded_data  "
   ]
  },
  {
   "cell_type": "code",
   "execution_count": 5,
   "metadata": {},
   "outputs": [
    {
     "name": "stderr",
     "output_type": "stream",
     "text": [
      "100%|██████████| 10000/10000 [03:03<00:00, 54.38it/s]\n"
     ]
    }
   ],
   "source": [
    "file_data = [f for f in listdir(path_input) if isfile (join(path_input, f))]\n",
    "for idx,line in enumerate(tqdm(file_data)):\n",
    "    if ( line[-1:] == '\\n' ):\n",
    "        line = line[:-1]\n",
    "\n",
    "    # Getting file path\n",
    "    songname = path_input + '/' + line\n",
    "\n",
    "    # Load .wav file\n",
    "    waveform, sample_rate = torchaudio.load(songname)\n",
    "\n",
    "    # Resample to 22050Hz\n",
    "    resampler = torchaudio.transforms.Resample(sample_rate, 22050)\n",
    "    resampled_waveform = resampler(waveform)\n",
    "\n",
    "    # Ensure that tensors are in fixed shape of [1,22050]\n",
    "    splits = list(torch.split(resampled_waveform, 22_050, dim=1))\n",
    "    splits[-1] = pad(splits[-1], 22050)\n",
    "\n",
    "    # Save each tensor\n",
    "    for s_idx, split in enumerate(splits):\n",
    "        fn = FILE_HEADER + str(idx) + '_' + str(s_idx) + '.pt'\n",
    "        torch.save(split, os.path.join(path_output, fn))"
   ]
  }
 ],
 "metadata": {
  "interpreter": {
   "hash": "d22ae1c124e37de917c126561a27c788d6dd62390fbbf984c1dcb6dec8f7002b"
  },
  "kernelspec": {
   "display_name": "Python 3.9.4 64-bit",
   "language": "python",
   "name": "python3"
  },
  "language_info": {
   "codemirror_mode": {
    "name": "ipython",
    "version": 3
   },
   "file_extension": ".py",
   "mimetype": "text/x-python",
   "name": "python",
   "nbconvert_exporter": "python",
   "pygments_lexer": "ipython3",
   "version": "3.9.4"
  },
  "orig_nbformat": 4
 },
 "nbformat": 4,
 "nbformat_minor": 2
}
