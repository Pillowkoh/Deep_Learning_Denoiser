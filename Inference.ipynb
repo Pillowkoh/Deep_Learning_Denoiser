{
 "cells": [
  {
   "cell_type": "code",
   "execution_count": null,
   "metadata": {},
   "outputs": [],
   "source": [
    "import torch\n",
    "import torchaudio\n",
    "import torch.nn as nn\n",
    "\n",
    "import os\n",
    "\n",
    "from model import Denoiser\n",
    "from loss import DenoiserLoss\n",
    "from trainer import Trainer\n",
    "from denoiser_app import AudioDenoiser\n"
   ]
  },
  {
   "cell_type": "code",
   "execution_count": null,
   "metadata": {},
   "outputs": [],
   "source": [
    "if os.name == 'nt':\n",
    "    BEST_WEIGHT_PATH = '.\\\\trained_weights\\\\model_030.pt'\n",
    "\n",
    "elif os.name == 'posix':\n",
    "    BEST_WEIGHT_PATH = './trained_weights/model_030.pt'"
   ]
  },
  {
   "cell_type": "code",
   "execution_count": null,
   "metadata": {},
   "outputs": [],
   "source": [
    "model = AudioDenoiser()\n"
   ]
  }
 ],
 "metadata": {
  "language_info": {
   "name": "python"
  },
  "orig_nbformat": 4
 },
 "nbformat": 4,
 "nbformat_minor": 2
}
