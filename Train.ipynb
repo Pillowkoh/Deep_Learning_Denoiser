{
 "cells": [
  {
   "cell_type": "code",
   "execution_count": 1,
   "metadata": {},
   "outputs": [],
   "source": [
    "import torch\n",
    "import torchaudio\n",
    "import torch.optim as optim\n",
    "from torch import nn\n",
    "from torchinfo import summary\n",
    "from torch.utils.data import DataLoader\n",
    "\n",
    "import numpy as np\n",
    "import pandas as pd\n",
    "import matplotlib.pyplot as plt\n",
    "\n",
    "from model import Denoiser\n",
    "from audio_dataset import Audio_Dataset\n",
    "from trainer import Trainer\n",
    "from loss import DenoiserLoss\n"
   ]
  },
  {
   "cell_type": "code",
   "execution_count": 2,
   "metadata": {},
   "outputs": [],
   "source": [
    "config = {\n",
    "    \"device\" : torch.device(\"cuda\" if torch.cuda.is_available() else \"cpu\"),\n",
    "    \"data_dir\" : \"data\",\n",
    "    \"batch_size\" : 32,\n",
    "    \"epochs\" : 10,\n",
    "    \"learning_rate\": 0.00025,\n",
    "    \"batches_per_epoch\": 1105,\n",
    "    \"batches_per_epoch_val\": 315,\n",
    "    \"train\": 0.7,\n",
    "    \"val\": 0.2,\n",
    "}"
   ]
  },
  {
   "cell_type": "code",
   "execution_count": 3,
   "metadata": {},
   "outputs": [],
   "source": [
    "train_dataset = Audio_Dataset(config, set_type=\"train\")\n",
    "train_dataloader = DataLoader(\n",
    "    dataset=train_dataset,\n",
    "    batch_size= config[\"batch_size\"],\n",
    "    shuffle=True,\n",
    "    drop_last=True,\n",
    "    num_workers=1,\n",
    ")\n",
    "\n",
    "val_dataset = Audio_Dataset(config, set_type=\"val\")\n",
    "val_dataloader = DataLoader(\n",
    "    dataset=val_dataset,\n",
    "    batch_size=config[\"batch_size\"],\n",
    "    shuffle=True,\n",
    "    drop_last=True,\n",
    "    num_workers=1,\n",
    ")"
   ]
  },
  {
   "cell_type": "code",
   "execution_count": 4,
   "metadata": {},
   "outputs": [
    {
     "name": "stdout",
     "output_type": "stream",
     "text": [
      "Denoiser(\n",
      "  (encoder): ModuleList(\n",
      "    (0): Sequential(\n",
      "      (0): Conv1d(1, 48, kernel_size=(8,), stride=(4,))\n",
      "      (1): ReLU()\n",
      "      (2): Conv1d(48, 96, kernel_size=(1,), stride=(1,))\n",
      "      (3): GLU(dim=1)\n",
      "    )\n",
      "    (1): Sequential(\n",
      "      (0): Conv1d(48, 96, kernel_size=(8,), stride=(4,))\n",
      "      (1): ReLU()\n",
      "      (2): Conv1d(96, 192, kernel_size=(1,), stride=(1,))\n",
      "      (3): GLU(dim=1)\n",
      "    )\n",
      "    (2): Sequential(\n",
      "      (0): Conv1d(96, 192, kernel_size=(8,), stride=(4,))\n",
      "      (1): ReLU()\n",
      "      (2): Conv1d(192, 384, kernel_size=(1,), stride=(1,))\n",
      "      (3): GLU(dim=1)\n",
      "    )\n",
      "    (3): Sequential(\n",
      "      (0): Conv1d(192, 384, kernel_size=(8,), stride=(4,))\n",
      "      (1): ReLU()\n",
      "      (2): Conv1d(384, 768, kernel_size=(1,), stride=(1,))\n",
      "      (3): GLU(dim=1)\n",
      "    )\n",
      "    (4): Sequential(\n",
      "      (0): Conv1d(384, 768, kernel_size=(8,), stride=(4,))\n",
      "      (1): ReLU()\n",
      "      (2): Conv1d(768, 1536, kernel_size=(1,), stride=(1,))\n",
      "      (3): GLU(dim=1)\n",
      "    )\n",
      "  )\n",
      "  (attention): ModuleList(\n",
      "    (0): Sequential(\n",
      "      (0): MultiheadAttention(\n",
      "        (out_proj): NonDynamicallyQuantizableLinear(in_features=768, out_features=768, bias=True)\n",
      "      )\n",
      "      (1): Linear(in_features=768, out_features=1536, bias=True)\n",
      "      (2): Linear(in_features=1536, out_features=768, bias=True)\n",
      "    )\n",
      "  )\n",
      "  (decoder): ModuleList(\n",
      "    (0): Sequential(\n",
      "      (0): Conv1d(768, 1536, kernel_size=(1,), stride=(1,))\n",
      "      (1): GLU(dim=1)\n",
      "      (2): ConvTranspose1d(768, 384, kernel_size=(8,), stride=(4,))\n",
      "      (3): ReLU()\n",
      "    )\n",
      "    (1): Sequential(\n",
      "      (0): Conv1d(384, 768, kernel_size=(1,), stride=(1,))\n",
      "      (1): GLU(dim=1)\n",
      "      (2): ConvTranspose1d(384, 192, kernel_size=(8,), stride=(4,))\n",
      "      (3): ReLU()\n",
      "    )\n",
      "    (2): Sequential(\n",
      "      (0): Conv1d(192, 384, kernel_size=(1,), stride=(1,))\n",
      "      (1): GLU(dim=1)\n",
      "      (2): ConvTranspose1d(192, 96, kernel_size=(8,), stride=(4,))\n",
      "      (3): ReLU()\n",
      "    )\n",
      "    (3): Sequential(\n",
      "      (0): Conv1d(96, 192, kernel_size=(1,), stride=(1,))\n",
      "      (1): GLU(dim=1)\n",
      "      (2): ConvTranspose1d(96, 48, kernel_size=(8,), stride=(4,))\n",
      "      (3): ReLU()\n",
      "    )\n",
      "    (4): Sequential(\n",
      "      (0): Conv1d(48, 96, kernel_size=(1,), stride=(1,))\n",
      "      (1): GLU(dim=1)\n",
      "      (2): ConvTranspose1d(48, 1, kernel_size=(8,), stride=(4,))\n",
      "    )\n",
      "  )\n",
      ")\n"
     ]
    }
   ],
   "source": [
    "trained_weights = './model_final'\n",
    "\n",
    "model = Denoiser(depth=5, N_attention=1)\n",
    "# model.load_state_dict(torch.load(trained_weights))\n",
    "model.to(config[\"device\"])\n",
    "print(model)\n",
    "\n",
    "loss_fn = DenoiserLoss()\n",
    "optimizer = optim.Adam(model.parameters(), lr=config[\"learning_rate\"])\n",
    "scheduler = optim.lr_scheduler.ReduceLROnPlateau(\n",
    "    optimizer=optimizer, factor=0.5, patience=20, verbose=True, threshold=0.00001\n",
    ")"
   ]
  },
  {
   "cell_type": "code",
   "execution_count": 5,
   "metadata": {},
   "outputs": [
    {
     "data": {
      "text/plain": [
       "=====================================================================================\n",
       "Layer (type:depth-idx)                                       Param #\n",
       "=====================================================================================\n",
       "Denoiser                                                     --\n",
       "├─ModuleList: 1-1                                            --\n",
       "│    └─Sequential: 2-1                                       --\n",
       "│    │    └─Conv1d: 3-1                                      432\n",
       "│    │    └─ReLU: 3-2                                        --\n",
       "│    │    └─Conv1d: 3-3                                      4,704\n",
       "│    │    └─GLU: 3-4                                         --\n",
       "│    └─Sequential: 2-2                                       --\n",
       "│    │    └─Conv1d: 3-5                                      36,960\n",
       "│    │    └─ReLU: 3-6                                        --\n",
       "│    │    └─Conv1d: 3-7                                      18,624\n",
       "│    │    └─GLU: 3-8                                         --\n",
       "│    └─Sequential: 2-3                                       --\n",
       "│    │    └─Conv1d: 3-9                                      147,648\n",
       "│    │    └─ReLU: 3-10                                       --\n",
       "│    │    └─Conv1d: 3-11                                     74,112\n",
       "│    │    └─GLU: 3-12                                        --\n",
       "│    └─Sequential: 2-4                                       --\n",
       "│    │    └─Conv1d: 3-13                                     590,208\n",
       "│    │    └─ReLU: 3-14                                       --\n",
       "│    │    └─Conv1d: 3-15                                     295,680\n",
       "│    │    └─GLU: 3-16                                        --\n",
       "│    └─Sequential: 2-5                                       --\n",
       "│    │    └─Conv1d: 3-17                                     2,360,064\n",
       "│    │    └─ReLU: 3-18                                       --\n",
       "│    │    └─Conv1d: 3-19                                     1,181,184\n",
       "│    │    └─GLU: 3-20                                        --\n",
       "├─ModuleList: 1-2                                            --\n",
       "│    └─Sequential: 2-6                                       --\n",
       "│    │    └─MultiheadAttention: 3-21                         2,362,368\n",
       "│    │    └─Linear: 3-22                                     1,181,184\n",
       "│    │    └─Linear: 3-23                                     1,180,416\n",
       "├─ModuleList: 1-3                                            --\n",
       "│    └─Sequential: 2-7                                       --\n",
       "│    │    └─Conv1d: 3-24                                     1,181,184\n",
       "│    │    └─GLU: 3-25                                        --\n",
       "│    │    └─ConvTranspose1d: 3-26                            2,359,680\n",
       "│    │    └─ReLU: 3-27                                       --\n",
       "│    └─Sequential: 2-8                                       --\n",
       "│    │    └─Conv1d: 3-28                                     295,680\n",
       "│    │    └─GLU: 3-29                                        --\n",
       "│    │    └─ConvTranspose1d: 3-30                            590,016\n",
       "│    │    └─ReLU: 3-31                                       --\n",
       "│    └─Sequential: 2-9                                       --\n",
       "│    │    └─Conv1d: 3-32                                     74,112\n",
       "│    │    └─GLU: 3-33                                        --\n",
       "│    │    └─ConvTranspose1d: 3-34                            147,552\n",
       "│    │    └─ReLU: 3-35                                       --\n",
       "│    └─Sequential: 2-10                                      --\n",
       "│    │    └─Conv1d: 3-36                                     18,624\n",
       "│    │    └─GLU: 3-37                                        --\n",
       "│    │    └─ConvTranspose1d: 3-38                            36,912\n",
       "│    │    └─ReLU: 3-39                                       --\n",
       "│    └─Sequential: 2-11                                      --\n",
       "│    │    └─Conv1d: 3-40                                     4,704\n",
       "│    │    └─GLU: 3-41                                        --\n",
       "│    │    └─ConvTranspose1d: 3-42                            385\n",
       "=====================================================================================\n",
       "Total params: 12,370,657\n",
       "Trainable params: 12,370,657\n",
       "Non-trainable params: 0\n",
       "====================================================================================="
      ]
     },
     "execution_count": 5,
     "metadata": {},
     "output_type": "execute_result"
    }
   ],
   "source": [
    "summary(model)"
   ]
  },
  {
   "cell_type": "code",
   "execution_count": 6,
   "metadata": {},
   "outputs": [
    {
     "name": "stderr",
     "output_type": "stream",
     "text": [
      "100%|██████████| 1106/1106 [08:13<00:00,  2.24it/s]\n"
     ]
    },
    {
     "name": "stdout",
     "output_type": "stream",
     "text": [
      "Training epoch complete\n"
     ]
    },
    {
     "name": "stderr",
     "output_type": "stream",
     "text": [
      "100%|██████████| 316/316 [02:16<00:00,  2.32it/s]\n"
     ]
    },
    {
     "name": "stdout",
     "output_type": "stream",
     "text": [
      "Eval epoch complete\n",
      "Epoch: 1/10, Train Loss=3.4527990818, Val Loss=1.7036632139\n"
     ]
    },
    {
     "name": "stderr",
     "output_type": "stream",
     "text": [
      "100%|██████████| 1106/1106 [08:25<00:00,  2.19it/s]\n"
     ]
    },
    {
     "name": "stdout",
     "output_type": "stream",
     "text": [
      "Training epoch complete\n"
     ]
    },
    {
     "name": "stderr",
     "output_type": "stream",
     "text": [
      "100%|██████████| 316/316 [02:13<00:00,  2.37it/s]\n"
     ]
    },
    {
     "name": "stdout",
     "output_type": "stream",
     "text": [
      "Eval epoch complete\n",
      "Epoch: 2/10, Train Loss=0.5968003273, Val Loss=0.7504829625\n"
     ]
    },
    {
     "name": "stderr",
     "output_type": "stream",
     "text": [
      "100%|██████████| 1106/1106 [08:15<00:00,  2.23it/s]\n"
     ]
    },
    {
     "name": "stdout",
     "output_type": "stream",
     "text": [
      "Training epoch complete\n"
     ]
    },
    {
     "name": "stderr",
     "output_type": "stream",
     "text": [
      "100%|██████████| 316/316 [02:13<00:00,  2.37it/s]\n"
     ]
    },
    {
     "name": "stdout",
     "output_type": "stream",
     "text": [
      "Eval epoch complete\n",
      "Epoch: 3/10, Train Loss=1.4797613621, Val Loss=0.7495768209\n"
     ]
    },
    {
     "name": "stderr",
     "output_type": "stream",
     "text": [
      "100%|██████████| 1106/1106 [08:23<00:00,  2.20it/s]\n"
     ]
    },
    {
     "name": "stdout",
     "output_type": "stream",
     "text": [
      "Training epoch complete\n"
     ]
    },
    {
     "name": "stderr",
     "output_type": "stream",
     "text": [
      "100%|██████████| 316/316 [02:15<00:00,  2.33it/s]\n"
     ]
    },
    {
     "name": "stdout",
     "output_type": "stream",
     "text": [
      "Eval epoch complete\n",
      "Epoch: 4/10, Train Loss=0.6819499731, Val Loss=0.553085767\n"
     ]
    },
    {
     "name": "stderr",
     "output_type": "stream",
     "text": [
      "100%|██████████| 1106/1106 [08:19<00:00,  2.22it/s]\n"
     ]
    },
    {
     "name": "stdout",
     "output_type": "stream",
     "text": [
      "Training epoch complete\n"
     ]
    },
    {
     "name": "stderr",
     "output_type": "stream",
     "text": [
      "100%|██████████| 316/316 [02:14<00:00,  2.36it/s]\n"
     ]
    },
    {
     "name": "stdout",
     "output_type": "stream",
     "text": [
      "Eval epoch complete\n",
      "Epoch: 5/10, Train Loss=0.5094048381, Val Loss=0.4734808672\n"
     ]
    },
    {
     "name": "stderr",
     "output_type": "stream",
     "text": [
      "100%|██████████| 1106/1106 [08:16<00:00,  2.23it/s]\n"
     ]
    },
    {
     "name": "stdout",
     "output_type": "stream",
     "text": [
      "Training epoch complete\n"
     ]
    },
    {
     "name": "stderr",
     "output_type": "stream",
     "text": [
      "100%|██████████| 316/316 [02:14<00:00,  2.36it/s]\n"
     ]
    },
    {
     "name": "stdout",
     "output_type": "stream",
     "text": [
      "Eval epoch complete\n",
      "Epoch: 6/10, Train Loss=0.700743258, Val Loss=0.4775142949\n"
     ]
    },
    {
     "name": "stderr",
     "output_type": "stream",
     "text": [
      "100%|██████████| 1106/1106 [08:20<00:00,  2.21it/s]\n"
     ]
    },
    {
     "name": "stdout",
     "output_type": "stream",
     "text": [
      "Training epoch complete\n"
     ]
    },
    {
     "name": "stderr",
     "output_type": "stream",
     "text": [
      "100%|██████████| 316/316 [02:14<00:00,  2.34it/s]\n"
     ]
    },
    {
     "name": "stdout",
     "output_type": "stream",
     "text": [
      "Eval epoch complete\n",
      "Epoch: 7/10, Train Loss=0.8813531995, Val Loss=0.750817335\n"
     ]
    },
    {
     "name": "stderr",
     "output_type": "stream",
     "text": [
      "100%|██████████| 1106/1106 [08:18<00:00,  2.22it/s]\n"
     ]
    },
    {
     "name": "stdout",
     "output_type": "stream",
     "text": [
      "Training epoch complete\n"
     ]
    },
    {
     "name": "stderr",
     "output_type": "stream",
     "text": [
      "100%|██████████| 316/316 [02:13<00:00,  2.36it/s]\n"
     ]
    },
    {
     "name": "stdout",
     "output_type": "stream",
     "text": [
      "Eval epoch complete\n",
      "Epoch: 8/10, Train Loss=0.3855588138, Val Loss=0.4341351207\n"
     ]
    },
    {
     "name": "stderr",
     "output_type": "stream",
     "text": [
      "100%|██████████| 1106/1106 [08:18<00:00,  2.22it/s]\n"
     ]
    },
    {
     "name": "stdout",
     "output_type": "stream",
     "text": [
      "Training epoch complete\n"
     ]
    },
    {
     "name": "stderr",
     "output_type": "stream",
     "text": [
      "100%|██████████| 316/316 [02:14<00:00,  2.36it/s]\n"
     ]
    },
    {
     "name": "stdout",
     "output_type": "stream",
     "text": [
      "Eval epoch complete\n",
      "Epoch: 9/10, Train Loss=0.5243663192, Val Loss=0.7608897661\n"
     ]
    },
    {
     "name": "stderr",
     "output_type": "stream",
     "text": [
      "100%|██████████| 1106/1106 [08:20<00:00,  2.21it/s]\n"
     ]
    },
    {
     "name": "stdout",
     "output_type": "stream",
     "text": [
      "Training epoch complete\n"
     ]
    },
    {
     "name": "stderr",
     "output_type": "stream",
     "text": [
      "100%|██████████| 316/316 [02:14<00:00,  2.35it/s]"
     ]
    },
    {
     "name": "stdout",
     "output_type": "stream",
     "text": [
      "Eval epoch complete\n",
      "Epoch: 10/10, Train Loss=0.417563796, Val Loss=0.422070321\n"
     ]
    },
    {
     "name": "stderr",
     "output_type": "stream",
     "text": [
      "\n"
     ]
    }
   ],
   "source": [
    "trainer = Trainer(\n",
    "    model=model,\n",
    "    loss_fn=loss_fn,\n",
    "    optimizer=optimizer,\n",
    "    epochs=config[\"epochs\"],\n",
    "    config=config,\n",
    "    scheduler=scheduler,\n",
    ")\n",
    "\n",
    "model = trainer.train(train_dataloader,val_dataloader)"
   ]
  }
 ],
 "metadata": {
  "interpreter": {
   "hash": "d22ae1c124e37de917c126561a27c788d6dd62390fbbf984c1dcb6dec8f7002b"
  },
  "kernelspec": {
   "display_name": "Python 3.9.4 64-bit",
   "language": "python",
   "name": "python3"
  },
  "language_info": {
   "codemirror_mode": {
    "name": "ipython",
    "version": 3
   },
   "file_extension": ".py",
   "mimetype": "text/x-python",
   "name": "python",
   "nbconvert_exporter": "python",
   "pygments_lexer": "ipython3",
   "version": "3.10.0"
  },
  "orig_nbformat": 4
 },
 "nbformat": 4,
 "nbformat_minor": 2
}
