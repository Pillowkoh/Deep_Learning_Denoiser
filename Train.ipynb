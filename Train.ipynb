{
 "cells": [
  {
   "cell_type": "code",
   "execution_count": 1,
   "metadata": {},
   "outputs": [],
   "source": [
    "import torch\n",
    "import torchaudio\n",
    "import torch.optim as optim\n",
    "from torch import nn\n",
    "from torchinfo import summary\n",
    "from torch.utils.data import DataLoader\n",
    "\n",
    "import numpy as np\n",
    "import pandas as pd\n",
    "import matplotlib.pyplot as plt\n",
    "\n",
    "from model import Denoiser\n",
    "from audio_dataset import Audio_Dataset\n",
    "from trainer import Trainer\n",
    "from loss import DenoiserLoss\n"
   ]
  },
  {
   "cell_type": "code",
   "execution_count": 2,
   "metadata": {},
   "outputs": [],
   "source": [
    "config = {\n",
    "    \"device\" : torch.device(\"cuda\" if torch.cuda.is_available() else \"cpu\"),\n",
    "    \"data_dir\" : \"data\",\n",
    "    \"batch_size\" : 100,\n",
    "    \"epochs\" : 1000,\n",
    "    \"learning_rate\": 0.1,\n",
    "    \"batches_per_epoch\": 50,\n",
    "    \"batches_per_epoch_val\": 20,\n",
    "    \"train\": 0.7,\n",
    "    \"val\": 0.2,\n",
    "}"
   ]
  },
  {
   "cell_type": "code",
   "execution_count": 3,
   "metadata": {},
   "outputs": [],
   "source": [
    "train_dataset = Audio_Dataset(config, set_type=\"train\")\n",
    "train_dataloader = DataLoader(\n",
    "    dataset=train_dataset,\n",
    "    batch_size= 100,\n",
    "    shuffle=True,\n",
    "    drop_last=True,\n",
    "    num_workers=2,\n",
    ")\n",
    "\n",
    "val_dataset = Audio_Dataset(config, set_type=\"val\")\n",
    "val_dataloader = DataLoader(\n",
    "    dataset=val_dataset,\n",
    "    batch_size=100,\n",
    "    shuffle=True,\n",
    "    drop_last=True,\n",
    "    num_workers=2,\n",
    ")"
   ]
  },
  {
   "cell_type": "code",
   "execution_count": 4,
   "metadata": {},
   "outputs": [
    {
     "name": "stdout",
     "output_type": "stream",
     "text": [
      "Denoiser(\n",
      "  (encoder): ModuleList(\n",
      "    (0): Sequential(\n",
      "      (0): Conv1d(1, 48, kernel_size=(8,), stride=(4,))\n",
      "      (1): ReLU()\n",
      "      (2): Conv1d(48, 96, kernel_size=(1,), stride=(1,))\n",
      "      (3): GLU(dim=1)\n",
      "    )\n",
      "    (1): Sequential(\n",
      "      (0): Conv1d(48, 96, kernel_size=(8,), stride=(4,))\n",
      "      (1): ReLU()\n",
      "      (2): Conv1d(96, 192, kernel_size=(1,), stride=(1,))\n",
      "      (3): GLU(dim=1)\n",
      "    )\n",
      "    (2): Sequential(\n",
      "      (0): Conv1d(96, 192, kernel_size=(8,), stride=(4,))\n",
      "      (1): ReLU()\n",
      "      (2): Conv1d(192, 384, kernel_size=(1,), stride=(1,))\n",
      "      (3): GLU(dim=1)\n",
      "    )\n",
      "  )\n",
      "  (attention): ModuleList(\n",
      "    (0): Sequential(\n",
      "      (0): MultiheadAttention(\n",
      "        (out_proj): NonDynamicallyQuantizableLinear(in_features=192, out_features=192, bias=True)\n",
      "      )\n",
      "      (1): Linear(in_features=192, out_features=384, bias=True)\n",
      "      (2): Linear(in_features=384, out_features=192, bias=True)\n",
      "    )\n",
      "  )\n",
      "  (decoder): ModuleList(\n",
      "    (0): Sequential(\n",
      "      (0): Conv1d(192, 384, kernel_size=(1,), stride=(1,))\n",
      "      (1): GLU(dim=1)\n",
      "      (2): ConvTranspose1d(192, 96, kernel_size=(8,), stride=(4,))\n",
      "      (3): ReLU()\n",
      "    )\n",
      "    (1): Sequential(\n",
      "      (0): Conv1d(96, 192, kernel_size=(1,), stride=(1,))\n",
      "      (1): GLU(dim=1)\n",
      "      (2): ConvTranspose1d(96, 48, kernel_size=(8,), stride=(4,))\n",
      "      (3): ReLU()\n",
      "    )\n",
      "    (2): Sequential(\n",
      "      (0): Conv1d(48, 96, kernel_size=(1,), stride=(1,))\n",
      "      (1): GLU(dim=1)\n",
      "      (2): ConvTranspose1d(48, 1, kernel_size=(8,), stride=(4,))\n",
      "    )\n",
      "  )\n",
      ")\n"
     ]
    }
   ],
   "source": [
    "model = Denoiser().to(config[\"device\"])\n",
    "print(model)\n",
    "\n",
    "loss_fn = DenoiserLoss()\n",
    "optimizer = optim.Adam(model.parameters(), lr=config[\"learning_rate\"])\n",
    "scheduler = optim.lr_scheduler.ReduceLROnPlateau(\n",
    "    optimizer=optimizer, factor=0.5, patience=20, verbose=True, threshold=0.00001\n",
    ")"
   ]
  },
  {
   "cell_type": "code",
   "execution_count": 5,
   "metadata": {},
   "outputs": [
    {
     "data": {
      "text/plain": [
       "=====================================================================================\n",
       "Layer (type:depth-idx)                                       Param #\n",
       "=====================================================================================\n",
       "Denoiser                                                     --\n",
       "├─ModuleList: 1-1                                            --\n",
       "│    └─Sequential: 2-1                                       --\n",
       "│    │    └─Conv1d: 3-1                                      432\n",
       "│    │    └─ReLU: 3-2                                        --\n",
       "│    │    └─Conv1d: 3-3                                      4,704\n",
       "│    │    └─GLU: 3-4                                         --\n",
       "│    └─Sequential: 2-2                                       --\n",
       "│    │    └─Conv1d: 3-5                                      36,960\n",
       "│    │    └─ReLU: 3-6                                        --\n",
       "│    │    └─Conv1d: 3-7                                      18,624\n",
       "│    │    └─GLU: 3-8                                         --\n",
       "│    └─Sequential: 2-3                                       --\n",
       "│    │    └─Conv1d: 3-9                                      147,648\n",
       "│    │    └─ReLU: 3-10                                       --\n",
       "│    │    └─Conv1d: 3-11                                     74,112\n",
       "│    │    └─GLU: 3-12                                        --\n",
       "├─ModuleList: 1-2                                            --\n",
       "│    └─Sequential: 2-4                                       --\n",
       "│    │    └─MultiheadAttention: 3-13                         148,224\n",
       "│    │    └─Linear: 3-14                                     74,112\n",
       "│    │    └─Linear: 3-15                                     73,920\n",
       "├─ModuleList: 1-3                                            --\n",
       "│    └─Sequential: 2-5                                       --\n",
       "│    │    └─Conv1d: 3-16                                     74,112\n",
       "│    │    └─GLU: 3-17                                        --\n",
       "│    │    └─ConvTranspose1d: 3-18                            147,552\n",
       "│    │    └─ReLU: 3-19                                       --\n",
       "│    └─Sequential: 2-6                                       --\n",
       "│    │    └─Conv1d: 3-20                                     18,624\n",
       "│    │    └─GLU: 3-21                                        --\n",
       "│    │    └─ConvTranspose1d: 3-22                            36,912\n",
       "│    │    └─ReLU: 3-23                                       --\n",
       "│    └─Sequential: 2-7                                       --\n",
       "│    │    └─Conv1d: 3-24                                     4,704\n",
       "│    │    └─GLU: 3-25                                        --\n",
       "│    │    └─ConvTranspose1d: 3-26                            385\n",
       "=====================================================================================\n",
       "Total params: 749,857\n",
       "Trainable params: 749,857\n",
       "Non-trainable params: 0\n",
       "====================================================================================="
      ]
     },
     "execution_count": 5,
     "metadata": {},
     "output_type": "execute_result"
    }
   ],
   "source": [
    "summary(model)"
   ]
  },
  {
   "cell_type": "code",
   "execution_count": 6,
   "metadata": {},
   "outputs": [
    {
     "name": "stderr",
     "output_type": "stream",
     "text": [
      "  0%|          | 0/351 [00:00<?, ?it/s]"
     ]
    },
    {
     "name": "stdout",
     "output_type": "stream",
     "text": [
      "{'noisy': tensor([[[ 6.2354e-02,  5.7179e-02,  4.7627e-02,  ..., -1.0490e-03,\n",
      "          -7.2836e-03, -9.5174e-03]],\n",
      "\n",
      "        [[ 4.6136e-05,  2.7331e-03,  2.9101e-03,  ...,  0.0000e+00,\n",
      "           0.0000e+00,  0.0000e+00]],\n",
      "\n",
      "        [[ 2.9993e-03,  2.4323e-03,  2.8769e-03,  ..., -7.6399e-04,\n",
      "          -1.3561e-03, -1.5548e-03]],\n",
      "\n",
      "        ...,\n",
      "\n",
      "        [[-2.2313e-03, -2.1952e-03, -4.3396e-03,  ..., -7.3664e-02,\n",
      "          -7.9593e-02, -7.8593e-02]],\n",
      "\n",
      "        [[-1.5039e-02, -1.5624e-02, -1.3504e-02,  ...,  0.0000e+00,\n",
      "           0.0000e+00,  0.0000e+00]],\n",
      "\n",
      "        [[ 5.8690e-04,  1.0670e-02,  3.0618e-02,  ..., -3.0622e-02,\n",
      "          -7.3170e-02, -9.9186e-02]]], device='cuda:0'), 'clean': tensor([[[-4.1955e-04, -1.5043e-04,  5.3628e-04,  ...,  0.0000e+00,\n",
      "           0.0000e+00,  0.0000e+00]],\n",
      "\n",
      "        [[ 2.3808e-05, -1.7695e-06, -1.2629e-06,  ...,  1.0458e-02,\n",
      "           6.7130e-03,  3.7196e-03]],\n",
      "\n",
      "        [[ 0.0000e+00,  0.0000e+00,  0.0000e+00,  ..., -1.4650e-03,\n",
      "          -1.6874e-03, -4.7434e-03]],\n",
      "\n",
      "        ...,\n",
      "\n",
      "        [[ 4.6831e-05,  5.5106e-05,  1.0785e-05,  ...,  0.0000e+00,\n",
      "           0.0000e+00,  0.0000e+00]],\n",
      "\n",
      "        [[-1.9558e-02, -3.2771e-02, -4.8905e-02,  ...,  1.5815e-02,\n",
      "           1.6058e-02,  1.6174e-02]],\n",
      "\n",
      "        [[ 2.1279e-02,  2.1225e-02,  2.0812e-02,  ...,  0.0000e+00,\n",
      "           0.0000e+00,  0.0000e+00]]], device='cuda:0')}\n"
     ]
    },
    {
     "name": "stderr",
     "output_type": "stream",
     "text": [
      "  0%|          | 1/351 [00:10<1:02:46, 10.76s/it]"
     ]
    },
    {
     "name": "stdout",
     "output_type": "stream",
     "text": [
      "{'noisy': tensor([[[-0.0104, -0.0115, -0.0123,  ...,  0.0000,  0.0000,  0.0000]],\n",
      "\n",
      "        [[-0.0479, -0.0442, -0.0361,  ...,  0.0127,  0.0100,  0.0139]],\n",
      "\n",
      "        [[-0.0034, -0.0026, -0.0017,  ...,  0.0095,  0.0088,  0.0073]],\n",
      "\n",
      "        ...,\n",
      "\n",
      "        [[ 0.1472,  0.2269,  0.1841,  ..., -0.0889, -0.0540,  0.0042]],\n",
      "\n",
      "        [[ 0.0096,  0.0097,  0.0086,  ...,  0.0000,  0.0000,  0.0000]],\n",
      "\n",
      "        [[-0.0140, -0.0039,  0.0113,  ...,  0.0296,  0.0007,  0.0020]]],\n",
      "       device='cuda:0'), 'clean': tensor([[[0., 0., 0.,  ..., 0., 0., 0.]],\n",
      "\n",
      "        [[0., 0., 0.,  ..., 0., 0., 0.]],\n",
      "\n",
      "        [[0., 0., 0.,  ..., 0., 0., 0.]],\n",
      "\n",
      "        ...,\n",
      "\n",
      "        [[0., 0., 0.,  ..., 0., 0., 0.]],\n",
      "\n",
      "        [[0., 0., 0.,  ..., 0., 0., 0.]],\n",
      "\n",
      "        [[0., 0., 0.,  ..., 0., 0., 0.]]], device='cuda:0')}\n"
     ]
    },
    {
     "name": "stderr",
     "output_type": "stream",
     "text": [
      "  1%|          | 2/351 [00:13<33:43,  5.80s/it]  "
     ]
    },
    {
     "name": "stdout",
     "output_type": "stream",
     "text": [
      "{'noisy': tensor([[[-0.0342, -0.0226, -0.0145,  ..., -0.1246, -0.1217, -0.1290]],\n",
      "\n",
      "        [[-0.0039, -0.0054, -0.0064,  ..., -0.0031, -0.0016, -0.0006]],\n",
      "\n",
      "        [[-0.0752, -0.1204, -0.1263,  ..., -0.0790, -0.0638, -0.0267]],\n",
      "\n",
      "        ...,\n",
      "\n",
      "        [[-0.1543, -0.1187, -0.0381,  ...,  0.0003,  0.0199,  0.0031]],\n",
      "\n",
      "        [[-0.1559, -0.1107, -0.0758,  ...,  0.0690,  0.0371,  0.0457]],\n",
      "\n",
      "        [[-0.0528, -0.0502, -0.1647,  ..., -0.0764, -0.0687,  0.0066]]],\n",
      "       device='cuda:0'), 'clean': tensor([[[-1.8913e-01, -1.6909e-01, -1.4843e-01,  ...,  4.4366e-02,\n",
      "           3.7217e-02,  3.5971e-02]],\n",
      "\n",
      "        [[-6.3947e-02, -7.6201e-02, -7.0454e-02,  ..., -3.9580e-02,\n",
      "          -5.2358e-02, -5.1714e-02]],\n",
      "\n",
      "        [[ 2.1223e-03,  4.4324e-03,  6.2671e-03,  ...,  4.1500e-03,\n",
      "           2.9911e-04, -6.1057e-03]],\n",
      "\n",
      "        ...,\n",
      "\n",
      "        [[-8.1600e-02, -7.3400e-02, -5.5996e-02,  ...,  4.8317e-03,\n",
      "           4.0129e-03,  4.4789e-03]],\n",
      "\n",
      "        [[ 0.0000e+00,  0.0000e+00,  0.0000e+00,  ...,  7.6801e-04,\n",
      "           8.7254e-04,  1.0683e-03]],\n",
      "\n",
      "        [[ 2.1185e-03,  2.0754e-03,  7.7859e-03,  ...,  4.4096e-05,\n",
      "          -4.8424e-05, -1.2181e-04]]], device='cuda:0')}\n"
     ]
    },
    {
     "name": "stderr",
     "output_type": "stream",
     "text": [
      "  1%|          | 3/351 [00:14<22:00,  3.79s/it]"
     ]
    },
    {
     "name": "stdout",
     "output_type": "stream",
     "text": [
      "{'noisy': tensor([[[-0.0510, -0.0564, -0.0539,  ...,  0.0000,  0.0000,  0.0000]],\n",
      "\n",
      "        [[-0.0842, -0.1014, -0.1106,  ...,  0.0000,  0.0000,  0.0000]],\n",
      "\n",
      "        [[ 0.1450,  0.0080, -0.0749,  ..., -0.0099, -0.0758, -0.1079]],\n",
      "\n",
      "        ...,\n",
      "\n",
      "        [[-0.1397,  0.0474,  0.0706,  ...,  0.1158,  0.1314,  0.1013]],\n",
      "\n",
      "        [[-0.0649, -0.0751, -0.0713,  ...,  0.0000,  0.0000,  0.0000]],\n",
      "\n",
      "        [[-0.0134, -0.0309, -0.0415,  ..., -0.0208,  0.0798,  0.1474]]],\n",
      "       device='cuda:0'), 'clean': tensor([[[ 1.9561e-02,  1.5819e-02,  1.4842e-02,  ..., -9.0432e-04,\n",
      "          -9.4227e-04, -1.0542e-03]],\n",
      "\n",
      "        [[ 2.1305e-03,  2.6168e-03,  2.2400e-04,  ...,  8.2954e-03,\n",
      "           8.2493e-03,  7.7089e-03]],\n",
      "\n",
      "        [[ 7.6656e-03,  7.6906e-03,  8.1053e-03,  ..., -2.9722e-02,\n",
      "          -2.8095e-02, -2.6133e-02]],\n",
      "\n",
      "        ...,\n",
      "\n",
      "        [[-6.0563e-02, -5.9859e-02, -5.8734e-02,  ..., -8.9420e-03,\n",
      "          -9.9048e-03, -1.0188e-02]],\n",
      "\n",
      "        [[ 5.9847e-04,  1.0869e-03,  1.6065e-03,  ...,  2.6589e-01,\n",
      "           2.6392e-01,  2.6178e-01]],\n",
      "\n",
      "        [[ 0.0000e+00,  0.0000e+00,  0.0000e+00,  ...,  3.7625e-03,\n",
      "           1.1146e-02,  1.4140e-02]]], device='cuda:0')}\n"
     ]
    },
    {
     "name": "stderr",
     "output_type": "stream",
     "text": [
      "  1%|          | 4/351 [00:19<24:11,  4.18s/it]"
     ]
    },
    {
     "name": "stdout",
     "output_type": "stream",
     "text": [
      "{'noisy': tensor([[[ 0.0070,  0.0121,  0.0197,  ..., -0.1822, -0.2059, -0.2343]],\n",
      "\n",
      "        [[ 0.0136,  0.0154,  0.0156,  ..., -0.0155, -0.0089, -0.0039]],\n",
      "\n",
      "        [[ 0.0373,  0.2343,  0.0833,  ...,  0.0705,  0.0097, -0.0684]],\n",
      "\n",
      "        ...,\n",
      "\n",
      "        [[-0.0419, -0.0435, -0.0390,  ...,  0.0223,  0.0181,  0.0171]],\n",
      "\n",
      "        [[ 0.0917,  0.1043,  0.1127,  ..., -0.0213, -0.0311, -0.0394]],\n",
      "\n",
      "        [[ 0.0787,  0.0722,  0.0685,  ...,  0.0000,  0.0000,  0.0000]]],\n",
      "       device='cuda:0'), 'clean': tensor([[[0., 0., 0.,  ..., 0., 0., 0.]],\n",
      "\n",
      "        [[0., 0., 0.,  ..., 0., 0., 0.]],\n",
      "\n",
      "        [[0., 0., 0.,  ..., 0., 0., 0.]],\n",
      "\n",
      "        ...,\n",
      "\n",
      "        [[0., 0., 0.,  ..., 0., 0., 0.]],\n",
      "\n",
      "        [[0., 0., 0.,  ..., 0., 0., 0.]],\n",
      "\n",
      "        [[0., 0., 0.,  ..., 0., 0., 0.]]], device='cuda:0')}\n"
     ]
    },
    {
     "name": "stderr",
     "output_type": "stream",
     "text": [
      "  1%|          | 4/351 [00:21<31:10,  5.39s/it]\n"
     ]
    },
    {
     "ename": "KeyboardInterrupt",
     "evalue": "",
     "output_type": "error",
     "traceback": [
      "\u001b[1;31m---------------------------------------------------------------------------\u001b[0m",
      "\u001b[1;31mKeyboardInterrupt\u001b[0m                         Traceback (most recent call last)",
      "\u001b[1;32m~\\AppData\\Local\\Temp/ipykernel_5024/916957457.py\u001b[0m in \u001b[0;36m<module>\u001b[1;34m\u001b[0m\n\u001b[0;32m      8\u001b[0m )\n\u001b[0;32m      9\u001b[0m \u001b[1;33m\u001b[0m\u001b[0m\n\u001b[1;32m---> 10\u001b[1;33m \u001b[0mmodel\u001b[0m \u001b[1;33m=\u001b[0m \u001b[0mtrainer\u001b[0m\u001b[1;33m.\u001b[0m\u001b[0mtrain\u001b[0m\u001b[1;33m(\u001b[0m\u001b[0mtrain_dataloader\u001b[0m\u001b[1;33m,\u001b[0m\u001b[0mval_dataloader\u001b[0m\u001b[1;33m)\u001b[0m\u001b[1;33m\u001b[0m\u001b[1;33m\u001b[0m\u001b[0m\n\u001b[0m",
      "\u001b[1;32mc:\\Users\\junha\\OneDrive\\Documents\\SUTD\\Term 7\\50.039 - Deep Learning\\Deep_Learning_Denoiser\\trainer.py\u001b[0m in \u001b[0;36mtrain\u001b[1;34m(self, train_dataloader, val_dataloader)\u001b[0m\n\u001b[0;32m     22\u001b[0m     \u001b[1;32mdef\u001b[0m \u001b[0mtrain\u001b[0m\u001b[1;33m(\u001b[0m\u001b[0mself\u001b[0m\u001b[1;33m,\u001b[0m \u001b[0mtrain_dataloader\u001b[0m\u001b[1;33m,\u001b[0m \u001b[0mval_dataloader\u001b[0m\u001b[1;33m)\u001b[0m\u001b[1;33m:\u001b[0m\u001b[1;33m\u001b[0m\u001b[1;33m\u001b[0m\u001b[0m\n\u001b[0;32m     23\u001b[0m         \u001b[1;32mfor\u001b[0m \u001b[0mepoch\u001b[0m \u001b[1;32min\u001b[0m \u001b[0mrange\u001b[0m\u001b[1;33m(\u001b[0m\u001b[0mself\u001b[0m\u001b[1;33m.\u001b[0m\u001b[0mepochs\u001b[0m\u001b[1;33m)\u001b[0m\u001b[1;33m:\u001b[0m\u001b[1;33m\u001b[0m\u001b[1;33m\u001b[0m\u001b[0m\n\u001b[1;32m---> 24\u001b[1;33m             \u001b[0mself\u001b[0m\u001b[1;33m.\u001b[0m\u001b[0m_epoch_train\u001b[0m\u001b[1;33m(\u001b[0m\u001b[0mtrain_dataloader\u001b[0m\u001b[1;33m)\u001b[0m\u001b[1;33m\u001b[0m\u001b[1;33m\u001b[0m\u001b[0m\n\u001b[0m\u001b[0;32m     25\u001b[0m             \u001b[0mself\u001b[0m\u001b[1;33m.\u001b[0m\u001b[0m_epoch_eval\u001b[0m\u001b[1;33m(\u001b[0m\u001b[0mval_dataloader\u001b[0m\u001b[1;33m)\u001b[0m\u001b[1;33m\u001b[0m\u001b[1;33m\u001b[0m\u001b[0m\n\u001b[0;32m     26\u001b[0m             print(\n",
      "\u001b[1;32mc:\\Users\\junha\\OneDrive\\Documents\\SUTD\\Term 7\\50.039 - Deep Learning\\Deep_Learning_Denoiser\\trainer.py\u001b[0m in \u001b[0;36m_epoch_train\u001b[1;34m(self, dataloader)\u001b[0m\n\u001b[0;32m     88\u001b[0m             \u001b[1;32mfor\u001b[0m \u001b[0mj\u001b[0m \u001b[1;32min\u001b[0m \u001b[0mrange\u001b[0m\u001b[1;33m(\u001b[0m\u001b[0mself\u001b[0m\u001b[1;33m.\u001b[0m\u001b[0mbatch_size\u001b[0m\u001b[1;33m)\u001b[0m\u001b[1;33m:\u001b[0m\u001b[1;33m\u001b[0m\u001b[1;33m\u001b[0m\u001b[0m\n\u001b[0;32m     89\u001b[0m                 \u001b[1;32mif\u001b[0m \u001b[0mloss\u001b[0m \u001b[1;33m==\u001b[0m \u001b[1;32mNone\u001b[0m\u001b[1;33m:\u001b[0m\u001b[1;33m\u001b[0m\u001b[1;33m\u001b[0m\u001b[0m\n\u001b[1;32m---> 90\u001b[1;33m                     \u001b[0mloss\u001b[0m \u001b[1;33m=\u001b[0m \u001b[0mself\u001b[0m\u001b[1;33m.\u001b[0m\u001b[0mloss_fn\u001b[0m\u001b[1;33m(\u001b[0m\u001b[0mclean\u001b[0m\u001b[1;33m[\u001b[0m\u001b[0mj\u001b[0m\u001b[1;33m]\u001b[0m\u001b[1;33m,\u001b[0m \u001b[0mdenoised\u001b[0m\u001b[1;33m[\u001b[0m\u001b[0mj\u001b[0m\u001b[1;33m]\u001b[0m\u001b[1;33m)\u001b[0m\u001b[1;33m\u001b[0m\u001b[1;33m\u001b[0m\u001b[0m\n\u001b[0m\u001b[0;32m     91\u001b[0m                 \u001b[1;32melse\u001b[0m\u001b[1;33m:\u001b[0m\u001b[1;33m\u001b[0m\u001b[1;33m\u001b[0m\u001b[0m\n\u001b[0;32m     92\u001b[0m                     \u001b[0mloss\u001b[0m \u001b[1;33m+=\u001b[0m \u001b[0mself\u001b[0m\u001b[1;33m.\u001b[0m\u001b[0mloss_fn\u001b[0m\u001b[1;33m(\u001b[0m\u001b[0mclean\u001b[0m\u001b[1;33m[\u001b[0m\u001b[0mj\u001b[0m\u001b[1;33m]\u001b[0m\u001b[1;33m,\u001b[0m \u001b[0mdenoised\u001b[0m\u001b[1;33m[\u001b[0m\u001b[0mj\u001b[0m\u001b[1;33m]\u001b[0m\u001b[1;33m)\u001b[0m\u001b[1;33m\u001b[0m\u001b[1;33m\u001b[0m\u001b[0m\n",
      "\u001b[1;32m~\\AppData\\Local\\Programs\\Python\\Python39\\lib\\site-packages\\torch\\nn\\modules\\module.py\u001b[0m in \u001b[0;36m_call_impl\u001b[1;34m(self, *input, **kwargs)\u001b[0m\n\u001b[0;32m   1108\u001b[0m         if not (self._backward_hooks or self._forward_hooks or self._forward_pre_hooks or _global_backward_hooks\n\u001b[0;32m   1109\u001b[0m                 or _global_forward_hooks or _global_forward_pre_hooks):\n\u001b[1;32m-> 1110\u001b[1;33m             \u001b[1;32mreturn\u001b[0m \u001b[0mforward_call\u001b[0m\u001b[1;33m(\u001b[0m\u001b[1;33m*\u001b[0m\u001b[0minput\u001b[0m\u001b[1;33m,\u001b[0m \u001b[1;33m**\u001b[0m\u001b[0mkwargs\u001b[0m\u001b[1;33m)\u001b[0m\u001b[1;33m\u001b[0m\u001b[1;33m\u001b[0m\u001b[0m\n\u001b[0m\u001b[0;32m   1111\u001b[0m         \u001b[1;31m# Do not call functions when jit is used\u001b[0m\u001b[1;33m\u001b[0m\u001b[1;33m\u001b[0m\u001b[1;33m\u001b[0m\u001b[0m\n\u001b[0;32m   1112\u001b[0m         \u001b[0mfull_backward_hooks\u001b[0m\u001b[1;33m,\u001b[0m \u001b[0mnon_full_backward_hooks\u001b[0m \u001b[1;33m=\u001b[0m \u001b[1;33m[\u001b[0m\u001b[1;33m]\u001b[0m\u001b[1;33m,\u001b[0m \u001b[1;33m[\u001b[0m\u001b[1;33m]\u001b[0m\u001b[1;33m\u001b[0m\u001b[1;33m\u001b[0m\u001b[0m\n",
      "\u001b[1;32mc:\\Users\\junha\\OneDrive\\Documents\\SUTD\\Term 7\\50.039 - Deep Learning\\Deep_Learning_Denoiser\\loss.py\u001b[0m in \u001b[0;36mforward\u001b[1;34m(self, clean, denoised)\u001b[0m\n\u001b[0;32m     11\u001b[0m         \u001b[0ml1_loss\u001b[0m \u001b[1;33m=\u001b[0m \u001b[0mF\u001b[0m\u001b[1;33m.\u001b[0m\u001b[0ml1_loss\u001b[0m\u001b[1;33m(\u001b[0m\u001b[0mclean\u001b[0m\u001b[1;33m,\u001b[0m \u001b[0mdenoised\u001b[0m\u001b[1;33m)\u001b[0m\u001b[1;33m\u001b[0m\u001b[1;33m\u001b[0m\u001b[0m\n\u001b[0;32m     12\u001b[0m         \u001b[0mmulti_resolution_stft_loss\u001b[0m \u001b[1;33m=\u001b[0m \u001b[0mMutltiResolutionSTFTLoss\u001b[0m\u001b[1;33m(\u001b[0m\u001b[1;33m)\u001b[0m\u001b[1;33m\u001b[0m\u001b[1;33m\u001b[0m\u001b[0m\n\u001b[1;32m---> 13\u001b[1;33m         \u001b[0msc_loss\u001b[0m\u001b[1;33m,\u001b[0m \u001b[0mmag_loss\u001b[0m \u001b[1;33m=\u001b[0m \u001b[0mmulti_resolution_stft_loss\u001b[0m\u001b[1;33m(\u001b[0m\u001b[0mclean\u001b[0m\u001b[1;33m,\u001b[0m \u001b[0mdenoised\u001b[0m\u001b[1;33m)\u001b[0m\u001b[1;33m\u001b[0m\u001b[1;33m\u001b[0m\u001b[0m\n\u001b[0m\u001b[0;32m     14\u001b[0m \u001b[1;33m\u001b[0m\u001b[0m\n\u001b[0;32m     15\u001b[0m         \u001b[0mloss\u001b[0m \u001b[1;33m=\u001b[0m \u001b[0ml1_loss\u001b[0m \u001b[1;33m+\u001b[0m \u001b[0msc_loss\u001b[0m \u001b[1;33m+\u001b[0m \u001b[0mmag_loss\u001b[0m\u001b[1;33m\u001b[0m\u001b[1;33m\u001b[0m\u001b[0m\n",
      "\u001b[1;32m~\\AppData\\Local\\Programs\\Python\\Python39\\lib\\site-packages\\torch\\nn\\modules\\module.py\u001b[0m in \u001b[0;36m_call_impl\u001b[1;34m(self, *input, **kwargs)\u001b[0m\n\u001b[0;32m   1108\u001b[0m         if not (self._backward_hooks or self._forward_hooks or self._forward_pre_hooks or _global_backward_hooks\n\u001b[0;32m   1109\u001b[0m                 or _global_forward_hooks or _global_forward_pre_hooks):\n\u001b[1;32m-> 1110\u001b[1;33m             \u001b[1;32mreturn\u001b[0m \u001b[0mforward_call\u001b[0m\u001b[1;33m(\u001b[0m\u001b[1;33m*\u001b[0m\u001b[0minput\u001b[0m\u001b[1;33m,\u001b[0m \u001b[1;33m**\u001b[0m\u001b[0mkwargs\u001b[0m\u001b[1;33m)\u001b[0m\u001b[1;33m\u001b[0m\u001b[1;33m\u001b[0m\u001b[0m\n\u001b[0m\u001b[0;32m   1111\u001b[0m         \u001b[1;31m# Do not call functions when jit is used\u001b[0m\u001b[1;33m\u001b[0m\u001b[1;33m\u001b[0m\u001b[1;33m\u001b[0m\u001b[0m\n\u001b[0;32m   1112\u001b[0m         \u001b[0mfull_backward_hooks\u001b[0m\u001b[1;33m,\u001b[0m \u001b[0mnon_full_backward_hooks\u001b[0m \u001b[1;33m=\u001b[0m \u001b[1;33m[\u001b[0m\u001b[1;33m]\u001b[0m\u001b[1;33m,\u001b[0m \u001b[1;33m[\u001b[0m\u001b[1;33m]\u001b[0m\u001b[1;33m\u001b[0m\u001b[1;33m\u001b[0m\u001b[0m\n",
      "\u001b[1;32mc:\\Users\\junha\\OneDrive\\Documents\\SUTD\\Term 7\\50.039 - Deep Learning\\Deep_Learning_Denoiser\\loss.py\u001b[0m in \u001b[0;36mforward\u001b[1;34m(self, clean, denoised)\u001b[0m\n\u001b[0;32m     38\u001b[0m         \u001b[0mtotal_sc_loss\u001b[0m\u001b[1;33m,\u001b[0m \u001b[0mtotal_mag_loss\u001b[0m \u001b[1;33m=\u001b[0m \u001b[1;36m0\u001b[0m\u001b[1;33m,\u001b[0m\u001b[1;36m0\u001b[0m\u001b[1;33m\u001b[0m\u001b[1;33m\u001b[0m\u001b[0m\n\u001b[0;32m     39\u001b[0m         \u001b[1;32mfor\u001b[0m \u001b[0mstft_loss\u001b[0m \u001b[1;32min\u001b[0m \u001b[0mself\u001b[0m\u001b[1;33m.\u001b[0m\u001b[0mstft_losses\u001b[0m\u001b[1;33m:\u001b[0m\u001b[1;33m\u001b[0m\u001b[1;33m\u001b[0m\u001b[0m\n\u001b[1;32m---> 40\u001b[1;33m             \u001b[0msc_loss\u001b[0m\u001b[1;33m,\u001b[0m \u001b[0mmag_loss\u001b[0m \u001b[1;33m=\u001b[0m \u001b[0mstft_loss\u001b[0m\u001b[1;33m(\u001b[0m\u001b[0mclean\u001b[0m\u001b[1;33m,\u001b[0m \u001b[0mdenoised\u001b[0m\u001b[1;33m)\u001b[0m\u001b[1;33m\u001b[0m\u001b[1;33m\u001b[0m\u001b[0m\n\u001b[0m\u001b[0;32m     41\u001b[0m             \u001b[0mtotal_sc_loss\u001b[0m \u001b[1;33m+=\u001b[0m \u001b[0msc_loss\u001b[0m\u001b[1;33m\u001b[0m\u001b[1;33m\u001b[0m\u001b[0m\n\u001b[0;32m     42\u001b[0m             \u001b[0mtotal_mag_loss\u001b[0m \u001b[1;33m+=\u001b[0m \u001b[0mmag_loss\u001b[0m\u001b[1;33m\u001b[0m\u001b[1;33m\u001b[0m\u001b[0m\n",
      "\u001b[1;32m~\\AppData\\Local\\Programs\\Python\\Python39\\lib\\site-packages\\torch\\nn\\modules\\module.py\u001b[0m in \u001b[0;36m_call_impl\u001b[1;34m(self, *input, **kwargs)\u001b[0m\n\u001b[0;32m   1108\u001b[0m         if not (self._backward_hooks or self._forward_hooks or self._forward_pre_hooks or _global_backward_hooks\n\u001b[0;32m   1109\u001b[0m                 or _global_forward_hooks or _global_forward_pre_hooks):\n\u001b[1;32m-> 1110\u001b[1;33m             \u001b[1;32mreturn\u001b[0m \u001b[0mforward_call\u001b[0m\u001b[1;33m(\u001b[0m\u001b[1;33m*\u001b[0m\u001b[0minput\u001b[0m\u001b[1;33m,\u001b[0m \u001b[1;33m**\u001b[0m\u001b[0mkwargs\u001b[0m\u001b[1;33m)\u001b[0m\u001b[1;33m\u001b[0m\u001b[1;33m\u001b[0m\u001b[0m\n\u001b[0m\u001b[0;32m   1111\u001b[0m         \u001b[1;31m# Do not call functions when jit is used\u001b[0m\u001b[1;33m\u001b[0m\u001b[1;33m\u001b[0m\u001b[1;33m\u001b[0m\u001b[0m\n\u001b[0;32m   1112\u001b[0m         \u001b[0mfull_backward_hooks\u001b[0m\u001b[1;33m,\u001b[0m \u001b[0mnon_full_backward_hooks\u001b[0m \u001b[1;33m=\u001b[0m \u001b[1;33m[\u001b[0m\u001b[1;33m]\u001b[0m\u001b[1;33m,\u001b[0m \u001b[1;33m[\u001b[0m\u001b[1;33m]\u001b[0m\u001b[1;33m\u001b[0m\u001b[1;33m\u001b[0m\u001b[0m\n",
      "\u001b[1;32mc:\\Users\\junha\\OneDrive\\Documents\\SUTD\\Term 7\\50.039 - Deep Learning\\Deep_Learning_Denoiser\\loss.py\u001b[0m in \u001b[0;36mforward\u001b[1;34m(self, clean, denoised)\u001b[0m\n\u001b[0;32m     58\u001b[0m \u001b[1;33m\u001b[0m\u001b[0m\n\u001b[0;32m     59\u001b[0m     \u001b[1;32mdef\u001b[0m \u001b[0mforward\u001b[0m\u001b[1;33m(\u001b[0m\u001b[0mself\u001b[0m\u001b[1;33m,\u001b[0m \u001b[0mclean\u001b[0m\u001b[1;33m,\u001b[0m \u001b[0mdenoised\u001b[0m\u001b[1;33m)\u001b[0m\u001b[1;33m:\u001b[0m\u001b[1;33m\u001b[0m\u001b[1;33m\u001b[0m\u001b[0m\n\u001b[1;32m---> 60\u001b[1;33m         \u001b[0mstft_clean\u001b[0m \u001b[1;33m=\u001b[0m \u001b[0mself\u001b[0m\u001b[1;33m.\u001b[0m\u001b[0m_stft\u001b[0m\u001b[1;33m(\u001b[0m\u001b[0mclean\u001b[0m\u001b[1;33m)\u001b[0m\u001b[1;33m\u001b[0m\u001b[1;33m\u001b[0m\u001b[0m\n\u001b[0m\u001b[0;32m     61\u001b[0m         \u001b[0mstft_denoised\u001b[0m \u001b[1;33m=\u001b[0m \u001b[0mself\u001b[0m\u001b[1;33m.\u001b[0m\u001b[0m_stft\u001b[0m\u001b[1;33m(\u001b[0m\u001b[0mdenoised\u001b[0m\u001b[1;33m)\u001b[0m\u001b[1;33m\u001b[0m\u001b[1;33m\u001b[0m\u001b[0m\n\u001b[0;32m     62\u001b[0m         \u001b[0msc_loss\u001b[0m \u001b[1;33m=\u001b[0m \u001b[0mself\u001b[0m\u001b[1;33m.\u001b[0m\u001b[0m_spectral_conversion_loss\u001b[0m\u001b[1;33m(\u001b[0m\u001b[0mstft_clean\u001b[0m\u001b[1;33m,\u001b[0m \u001b[0mstft_denoised\u001b[0m\u001b[1;33m)\u001b[0m\u001b[1;33m\u001b[0m\u001b[1;33m\u001b[0m\u001b[0m\n",
      "\u001b[1;32mc:\\Users\\junha\\OneDrive\\Documents\\SUTD\\Term 7\\50.039 - Deep Learning\\Deep_Learning_Denoiser\\loss.py\u001b[0m in \u001b[0;36m_stft\u001b[1;34m(self, x)\u001b[0m\n\u001b[0;32m     68\u001b[0m     \u001b[1;32mdef\u001b[0m \u001b[0m_stft\u001b[0m\u001b[1;33m(\u001b[0m\u001b[0mself\u001b[0m\u001b[1;33m,\u001b[0m \u001b[0mx\u001b[0m\u001b[1;33m)\u001b[0m\u001b[1;33m:\u001b[0m\u001b[1;33m\u001b[0m\u001b[1;33m\u001b[0m\u001b[0m\n\u001b[0;32m     69\u001b[0m         \u001b[0mdevice\u001b[0m \u001b[1;33m=\u001b[0m \u001b[0mtorch\u001b[0m\u001b[1;33m.\u001b[0m\u001b[0mdevice\u001b[0m\u001b[1;33m(\u001b[0m\u001b[1;34m\"cuda\"\u001b[0m \u001b[1;32mif\u001b[0m \u001b[0mtorch\u001b[0m\u001b[1;33m.\u001b[0m\u001b[0mcuda\u001b[0m\u001b[1;33m.\u001b[0m\u001b[0mis_available\u001b[0m\u001b[1;33m(\u001b[0m\u001b[1;33m)\u001b[0m \u001b[1;32melse\u001b[0m \u001b[1;34m\"cpu\"\u001b[0m\u001b[1;33m)\u001b[0m\u001b[1;33m\u001b[0m\u001b[1;33m\u001b[0m\u001b[0m\n\u001b[1;32m---> 70\u001b[1;33m         \u001b[0mwindow\u001b[0m \u001b[1;33m=\u001b[0m \u001b[0mtorch\u001b[0m\u001b[1;33m.\u001b[0m\u001b[0mhann_window\u001b[0m\u001b[1;33m(\u001b[0m\u001b[0mself\u001b[0m\u001b[1;33m.\u001b[0m\u001b[0mwin_length\u001b[0m\u001b[1;33m)\u001b[0m\u001b[1;33m.\u001b[0m\u001b[0mto\u001b[0m\u001b[1;33m(\u001b[0m\u001b[0mdevice\u001b[0m\u001b[1;33m)\u001b[0m\u001b[1;33m\u001b[0m\u001b[1;33m\u001b[0m\u001b[0m\n\u001b[0m\u001b[0;32m     71\u001b[0m         \u001b[0mx_stft\u001b[0m \u001b[1;33m=\u001b[0m \u001b[0mtorch\u001b[0m\u001b[1;33m.\u001b[0m\u001b[0mstft\u001b[0m\u001b[1;33m(\u001b[0m\u001b[0mx\u001b[0m\u001b[1;33m,\u001b[0m \u001b[0mself\u001b[0m\u001b[1;33m.\u001b[0m\u001b[0mfft_size\u001b[0m\u001b[1;33m,\u001b[0m \u001b[0mself\u001b[0m\u001b[1;33m.\u001b[0m\u001b[0mhop_size\u001b[0m\u001b[1;33m,\u001b[0m \u001b[0mself\u001b[0m\u001b[1;33m.\u001b[0m\u001b[0mwin_length\u001b[0m\u001b[1;33m,\u001b[0m \u001b[0mwindow\u001b[0m\u001b[1;33m,\u001b[0m \u001b[0mreturn_complex\u001b[0m\u001b[1;33m=\u001b[0m\u001b[1;32mFalse\u001b[0m\u001b[1;33m)\u001b[0m\u001b[1;33m\u001b[0m\u001b[1;33m\u001b[0m\u001b[0m\n\u001b[0;32m     72\u001b[0m         \u001b[0mreal\u001b[0m \u001b[1;33m=\u001b[0m \u001b[0mx_stft\u001b[0m\u001b[1;33m[\u001b[0m\u001b[1;33m...\u001b[0m\u001b[1;33m,\u001b[0m \u001b[1;36m0\u001b[0m\u001b[1;33m]\u001b[0m\u001b[1;33m\u001b[0m\u001b[1;33m\u001b[0m\u001b[0m\n",
      "\u001b[1;31mKeyboardInterrupt\u001b[0m: "
     ]
    }
   ],
   "source": [
    "trainer = Trainer(\n",
    "    model=model,\n",
    "    loss_fn=loss_fn,\n",
    "    optimizer=optimizer,\n",
    "    epochs=config[\"epochs\"],\n",
    "    config=config,\n",
    "    scheduler=scheduler,\n",
    ")\n",
    "\n",
    "model = trainer.train(train_dataloader,val_dataloader)"
   ]
  }
 ],
 "metadata": {
  "interpreter": {
   "hash": "d22ae1c124e37de917c126561a27c788d6dd62390fbbf984c1dcb6dec8f7002b"
  },
  "kernelspec": {
   "display_name": "Python 3.9.4 64-bit",
   "language": "python",
   "name": "python3"
  },
  "language_info": {
   "codemirror_mode": {
    "name": "ipython",
    "version": 3
   },
   "file_extension": ".py",
   "mimetype": "text/x-python",
   "name": "python",
   "nbconvert_exporter": "python",
   "pygments_lexer": "ipython3",
   "version": "3.9.4"
  },
  "orig_nbformat": 4
 },
 "nbformat": 4,
 "nbformat_minor": 2
}
