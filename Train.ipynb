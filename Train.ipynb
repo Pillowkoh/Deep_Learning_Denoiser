{
 "cells": [
  {
   "cell_type": "code",
   "execution_count": 1,
   "metadata": {},
   "outputs": [],
   "source": [
    "import torch\n",
    "import torchaudio\n",
    "import torch.optim as optim\n",
    "from torch import nn\n",
    "from torchinfo import summary\n",
    "from torch.utils.data import DataLoader\n",
    "\n",
    "import numpy as np\n",
    "import pandas as pd\n",
    "import matplotlib.pyplot as plt\n",
    "\n",
    "from model import Denoiser\n",
    "from audio_dataset import Audio_Dataset\n",
    "from trainer import Trainer\n",
    "from loss import DenoiserLoss\n"
   ]
  },
  {
   "cell_type": "code",
   "execution_count": 2,
   "metadata": {},
   "outputs": [],
   "source": [
    "config = {\n",
    "    \"device\" : torch.device(\"cuda\" if torch.cuda.is_available() else \"cpu\"),\n",
    "    \"data_dir\" : \"data\",\n",
    "    \"batch_size\" : 32,\n",
    "    \"epochs\" : 1000,\n",
    "    \"learning_rate\": 0.0005,\n",
    "    \"batches_per_epoch\": 1096,\n",
    "    \"batches_per_epoch_val\": 311,\n",
    "    \"train\": 0.7,\n",
    "    \"val\": 0.2,\n",
    "}"
   ]
  },
  {
   "cell_type": "code",
   "execution_count": 3,
   "metadata": {},
   "outputs": [],
   "source": [
    "train_dataset = Audio_Dataset(config, set_type=\"train\")\n",
    "train_dataloader = DataLoader(\n",
    "    dataset=train_dataset,\n",
    "    batch_size= config[\"batch_size\"],\n",
    "    shuffle=True,\n",
    "    drop_last=True,\n",
    "    num_workers=2,\n",
    ")\n",
    "\n",
    "val_dataset = Audio_Dataset(config, set_type=\"val\")\n",
    "val_dataloader = DataLoader(\n",
    "    dataset=val_dataset,\n",
    "    batch_size=config[\"batch_size\"],\n",
    "    shuffle=True,\n",
    "    drop_last=True,\n",
    "    num_workers=2,\n",
    ")"
   ]
  },
  {
   "cell_type": "code",
   "execution_count": 4,
   "metadata": {},
   "outputs": [
    {
     "name": "stdout",
     "output_type": "stream",
     "text": [
      "Denoiser(\n",
      "  (encoder): ModuleList(\n",
      "    (0): Sequential(\n",
      "      (0): Conv1d(1, 48, kernel_size=(8,), stride=(4,))\n",
      "      (1): ReLU()\n",
      "      (2): Conv1d(48, 96, kernel_size=(1,), stride=(1,))\n",
      "      (3): GLU(dim=1)\n",
      "    )\n",
      "    (1): Sequential(\n",
      "      (0): Conv1d(48, 96, kernel_size=(8,), stride=(4,))\n",
      "      (1): ReLU()\n",
      "      (2): Conv1d(96, 192, kernel_size=(1,), stride=(1,))\n",
      "      (3): GLU(dim=1)\n",
      "    )\n",
      "    (2): Sequential(\n",
      "      (0): Conv1d(96, 192, kernel_size=(8,), stride=(4,))\n",
      "      (1): ReLU()\n",
      "      (2): Conv1d(192, 384, kernel_size=(1,), stride=(1,))\n",
      "      (3): GLU(dim=1)\n",
      "    )\n",
      "  )\n",
      "  (attention): ModuleList(\n",
      "    (0): Sequential(\n",
      "      (0): MultiheadAttention(\n",
      "        (out_proj): NonDynamicallyQuantizableLinear(in_features=192, out_features=192, bias=True)\n",
      "      )\n",
      "      (1): Linear(in_features=192, out_features=384, bias=True)\n",
      "      (2): Linear(in_features=384, out_features=192, bias=True)\n",
      "    )\n",
      "  )\n",
      "  (decoder): ModuleList(\n",
      "    (0): Sequential(\n",
      "      (0): Conv1d(192, 384, kernel_size=(1,), stride=(1,))\n",
      "      (1): GLU(dim=1)\n",
      "      (2): ConvTranspose1d(192, 96, kernel_size=(8,), stride=(4,))\n",
      "      (3): ReLU()\n",
      "    )\n",
      "    (1): Sequential(\n",
      "      (0): Conv1d(96, 192, kernel_size=(1,), stride=(1,))\n",
      "      (1): GLU(dim=1)\n",
      "      (2): ConvTranspose1d(96, 48, kernel_size=(8,), stride=(4,))\n",
      "      (3): ReLU()\n",
      "    )\n",
      "    (2): Sequential(\n",
      "      (0): Conv1d(48, 96, kernel_size=(1,), stride=(1,))\n",
      "      (1): GLU(dim=1)\n",
      "      (2): ConvTranspose1d(48, 1, kernel_size=(8,), stride=(4,))\n",
      "    )\n",
      "  )\n",
      ")\n"
     ]
    }
   ],
   "source": [
    "trained_weights = './trained_weights/model_020'\n",
    "\n",
    "model = Denoiser()\n",
    "model.load_state_dict(torch.load(trained_weights))\n",
    "model.to(config[\"device\"])\n",
    "print(model)\n",
    "\n",
    "loss_fn = DenoiserLoss()\n",
    "optimizer = optim.Adam(model.parameters(), lr=config[\"learning_rate\"])\n",
    "scheduler = optim.lr_scheduler.ReduceLROnPlateau(\n",
    "    optimizer=optimizer, factor=0.5, patience=20, verbose=True, threshold=0.00001\n",
    ")"
   ]
  },
  {
   "cell_type": "code",
   "execution_count": 5,
   "metadata": {},
   "outputs": [
    {
     "data": {
      "text/plain": [
       "=====================================================================================\n",
       "Layer (type:depth-idx)                                       Param #\n",
       "=====================================================================================\n",
       "Denoiser                                                     --\n",
       "├─ModuleList: 1-1                                            --\n",
       "│    └─Sequential: 2-1                                       --\n",
       "│    │    └─Conv1d: 3-1                                      432\n",
       "│    │    └─ReLU: 3-2                                        --\n",
       "│    │    └─Conv1d: 3-3                                      4,704\n",
       "│    │    └─GLU: 3-4                                         --\n",
       "│    └─Sequential: 2-2                                       --\n",
       "│    │    └─Conv1d: 3-5                                      36,960\n",
       "│    │    └─ReLU: 3-6                                        --\n",
       "│    │    └─Conv1d: 3-7                                      18,624\n",
       "│    │    └─GLU: 3-8                                         --\n",
       "│    └─Sequential: 2-3                                       --\n",
       "│    │    └─Conv1d: 3-9                                      147,648\n",
       "│    │    └─ReLU: 3-10                                       --\n",
       "│    │    └─Conv1d: 3-11                                     74,112\n",
       "│    │    └─GLU: 3-12                                        --\n",
       "├─ModuleList: 1-2                                            --\n",
       "│    └─Sequential: 2-4                                       --\n",
       "│    │    └─MultiheadAttention: 3-13                         148,224\n",
       "│    │    └─Linear: 3-14                                     74,112\n",
       "│    │    └─Linear: 3-15                                     73,920\n",
       "├─ModuleList: 1-3                                            --\n",
       "│    └─Sequential: 2-5                                       --\n",
       "│    │    └─Conv1d: 3-16                                     74,112\n",
       "│    │    └─GLU: 3-17                                        --\n",
       "│    │    └─ConvTranspose1d: 3-18                            147,552\n",
       "│    │    └─ReLU: 3-19                                       --\n",
       "│    └─Sequential: 2-6                                       --\n",
       "│    │    └─Conv1d: 3-20                                     18,624\n",
       "│    │    └─GLU: 3-21                                        --\n",
       "│    │    └─ConvTranspose1d: 3-22                            36,912\n",
       "│    │    └─ReLU: 3-23                                       --\n",
       "│    └─Sequential: 2-7                                       --\n",
       "│    │    └─Conv1d: 3-24                                     4,704\n",
       "│    │    └─GLU: 3-25                                        --\n",
       "│    │    └─ConvTranspose1d: 3-26                            385\n",
       "=====================================================================================\n",
       "Total params: 749,857\n",
       "Trainable params: 749,857\n",
       "Non-trainable params: 0\n",
       "====================================================================================="
      ]
     },
     "execution_count": 5,
     "metadata": {},
     "output_type": "execute_result"
    }
   ],
   "source": [
    "summary(model)"
   ]
  },
  {
   "cell_type": "code",
   "execution_count": 6,
   "metadata": {},
   "outputs": [
    {
     "name": "stderr",
     "output_type": "stream",
     "text": [
      "  0%|          | 0/1097 [00:00<?, ?it/s]"
     ]
    }
   ],
   "source": [
    "trainer = Trainer(\n",
    "    model=model,\n",
    "    loss_fn=loss_fn,\n",
    "    optimizer=optimizer,\n",
    "    epochs=config[\"epochs\"],\n",
    "    config=config,\n",
    "    scheduler=scheduler,\n",
    ")\n",
    "\n",
    "model = trainer.train(train_dataloader,val_dataloader)"
   ]
  }
 ],
 "metadata": {
  "interpreter": {
   "hash": "d22ae1c124e37de917c126561a27c788d6dd62390fbbf984c1dcb6dec8f7002b"
  },
  "kernelspec": {
   "display_name": "Python 3.9.4 64-bit",
   "language": "python",
   "name": "python3"
  },
  "language_info": {
   "codemirror_mode": {
    "name": "ipython",
    "version": 3
   },
   "file_extension": ".py",
   "mimetype": "text/x-python",
   "name": "python",
   "nbconvert_exporter": "python",
   "pygments_lexer": "ipython3",
   "version": "3.9.4"
  },
  "orig_nbformat": 4
 },
 "nbformat": 4,
 "nbformat_minor": 2
}
