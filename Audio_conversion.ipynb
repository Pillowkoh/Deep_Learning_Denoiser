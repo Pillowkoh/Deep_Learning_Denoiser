{
 "cells": [
  {
   "cell_type": "code",
   "execution_count": 4,
   "metadata": {},
   "outputs": [],
   "source": [
    "from tqdm import tqdm\n",
    "from pydub import AudioSegment\n",
    "from os import listdir\n",
    "from os.path import isfile, join"
   ]
  },
  {
   "cell_type": "code",
   "execution_count": 2,
   "metadata": {},
   "outputs": [],
   "source": [
    "path_input = './data/clean_audio'\n",
    "path_output = './data/clean_audio_WAV'"
   ]
  },
  {
   "cell_type": "code",
   "execution_count": 6,
   "metadata": {},
   "outputs": [
    {
     "name": "stderr",
     "output_type": "stream",
     "text": [
      "100%|██████████| 10000/10000 [17:48<00:00,  9.35it/s]\n"
     ]
    }
   ],
   "source": [
    "file_data = [f for f in listdir(path_input) if isfile (join(path_input, f))]\n",
    "for line in tqdm(file_data):\n",
    "    if ( line[-1:] == '\\n' ):\n",
    "        line = line[:-1]\n",
    "\n",
    "    # Reading Song\n",
    "    songname = path_input + '/' + line\n",
    "    save_dest = path_output + '/' + line.split('.')[0] + '.wav'\n",
    "    # print(save_dest)\n",
    "\n",
    "    sound = AudioSegment.from_mp3(songname)\n",
    "    sound.export(save_dest, format=\"wav\")"
   ]
  }
 ],
 "metadata": {
  "interpreter": {
   "hash": "d22ae1c124e37de917c126561a27c788d6dd62390fbbf984c1dcb6dec8f7002b"
  },
  "kernelspec": {
   "display_name": "Python 3.9.4 64-bit",
   "language": "python",
   "name": "python3"
  },
  "language_info": {
   "codemirror_mode": {
    "name": "ipython",
    "version": 3
   },
   "file_extension": ".py",
   "mimetype": "text/x-python",
   "name": "python",
   "nbconvert_exporter": "python",
   "pygments_lexer": "ipython3",
   "version": "3.9.4"
  },
  "orig_nbformat": 4
 },
 "nbformat": 4,
 "nbformat_minor": 2
}
